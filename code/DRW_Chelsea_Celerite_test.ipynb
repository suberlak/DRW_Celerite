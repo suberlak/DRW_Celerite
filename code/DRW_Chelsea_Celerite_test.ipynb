{
 "cells": [
  {
   "cell_type": "markdown",
   "metadata": {},
   "source": [
    "### Executive Summary (2017.11.11) <a id='toc'></a>"
   ]
  },
  {
   "cell_type": "markdown",
   "metadata": {},
   "source": [
    "A notebook to simulate 1000 DRW light curves,  with 400 points each, spanning length of 2000 days,  with separation of 5 days , and input timescale of 100  days, so that the light curve is well within the unbiased regime ( much longer  than  10 timescales ) . \n",
    "\n",
    "Since the light curves are stored,  it is possible to use the previously simulated light curves.  \n",
    "\n",
    "We present the comparison of Chelsea MacLeod's results  against those of Celerite, exploring a range of possible priors.  \n",
    "\n"
   ]
  },
  {
   "cell_type": "markdown",
   "metadata": {},
   "source": [
    "* [Sec 1 : Aside : simulating light curves](#sim_lc)\n",
    "* [Sec 2 : Celerite fits](#celerite_fit)\n",
    "    * [Sec 2.1 : Fitting loop](#fitting_loop)\n",
    "    * [Sec 2.2 : Illustrating the gappy data fits](#illustrate)\n",
    "    * [Sec 2.3: Error on the MLE](#error_mle)\n",
    "* [Sec 3 : Compare Celerite and Chelsea](#compare)\n",
    "    * [Sec 3.1 Plotting fit results](#plotting)\n",
    "    * [Sec 3.2 Save combined fit results](#save)\n"
   ]
  },
  {
   "cell_type": "markdown",
   "metadata": {},
   "source": [
    "# Imports "
   ]
  },
  {
   "cell_type": "markdown",
   "metadata": {},
   "source": [
    "[Go to top](#toc)"
   ]
  },
  {
   "cell_type": "code",
   "execution_count": 1,
   "metadata": {
    "collapsed": true
   },
   "outputs": [],
   "source": [
    "import numpy as np \n",
    "import os\n",
    "import datetime\n",
    "from itertools import product\n",
    "from scipy.optimize import minimize\n",
    "\n",
    "import matplotlib.pyplot as plt\n",
    "from matplotlib import rcParams      \n",
    "rcParams['ytick.labelsize'] = 15\n",
    "rcParams['xtick.labelsize'] = 15\n",
    "rcParams['axes.labelsize'] = 20\n",
    "rcParams['axes.linewidth'] = 2\n",
    "rcParams['font.size'] = 15\n",
    "rcParams['axes.titlesize'] = 18\n",
    "\n",
    "import celerite\n",
    "import numpy as np\n",
    "import matplotlib.pyplot as plt\n",
    "from celerite import terms\n",
    "from astropy.table import Table\n",
    "from astropy.table import vstack\n",
    "from astropy.table import Column"
   ]
  },
  {
   "cell_type": "markdown",
   "metadata": {},
   "source": [
    "Input properties for each of the 1000 light curves  : \n",
    "\n",
    "  $\\tau_{in} = 100 $ days\n",
    "   \n",
    "  $\\sigma_{in} = 0.2  $ mag\n",
    "\n",
    "  $SF_{\\infty} = 0.2*\\sqrt{2} = 0.2828$ mag\n",
    "\n",
    "length = $l= 20 \\tau$\n",
    "\n",
    "dt = 5 days \n",
    "\n",
    "random sampling  from a uniform distribution \n",
    "\n",
    "yerr = 0.001  mag \n",
    "\n",
    "400 points "
   ]
  },
  {
   "cell_type": "markdown",
   "metadata": {},
   "source": [
    "# Aside : code to simulate light curves <a id='sim_lc'></a> "
   ]
  },
  {
   "cell_type": "markdown",
   "metadata": {},
   "source": [
    "[go to top](#toc)"
   ]
  },
  {
   "cell_type": "markdown",
   "metadata": {},
   "source": [
    "These light curves were simulated with the following code :"
   ]
  },
  {
   "cell_type": "code",
   "execution_count": 5,
   "metadata": {
    "collapsed": true
   },
   "outputs": [],
   "source": [
    "def sim_DRW_lightcurve(t,SFinf,tau,mean_mag):\n",
    "    '''Simulate a DRW lightcurve for a given time series t, with parameters\n",
    "       (SFinf, tau), and mean magnitude.\n",
    "       Uses equations A4 and A5 in Kelly 2009 (see also MacLeod+10 sec 2.2).'''\n",
    "    mu = mean_mag  # the input parameter : mean mag: make an alias \n",
    "    mag = np.zeros(len(t),dtype=np.float32) # initialize an array of empty values\n",
    "    mag[0] = mean_mag # start from the mean magnitude \n",
    "    dt = np.diff(t) # an array of differences  t[i+1]-t[i]\n",
    "    for i in range(1,len(t)):\n",
    "        # calculate the mean \n",
    "        loc = np.exp(-dt[i-1]/tau)*mag[i-1] + mu*(1-np.exp(-dt[i-1]/tau))\n",
    "        # calculate the variance \n",
    "        var = 0.5 * SFinf**2 * (1-np.exp(-2*dt[i-1]/tau))\n",
    "        # draw the magnitude value from a Gaussian distribution\n",
    "        # with a given mean and standard deviation ( = sqrt(variance))\n",
    "        mag[i] = np.random.normal(loc=loc,scale=np.sqrt(var))\n",
    "    return mag\n",
    "\n",
    "\n",
    "def sampling(tau_in = 100, length=10, t_min=1, N_pts = None,  dt = 10 , \n",
    "                        regular=False, verbose=False):\n",
    "    ''' A convenience function to return user-defined sampling \n",
    "    \n",
    "    Input: \n",
    "    -------\n",
    "    tau_in : input timescale (default: 100 days )\n",
    "    length : length in terms of multiples of timescale (default: 10) \n",
    "    t_min : starting point of lightcurve (default : 1 )\n",
    "    N_pts: if provided , then we choose the dt based on the number \n",
    "         of points desired. Otherwise the number of points is \n",
    "         calculated based on the desired spacing. \n",
    "    dt : interval between samplings, if regular = True, then \n",
    "        this is the exact interval,  otherwise we divide the \n",
    "        light curve length by dt to determine the number \n",
    "        of points \n",
    "    regular : boolean (True / False). Use regular sampling with dt, \n",
    "        or random sampling with Npts = floor(total_timespan / dt) ? \n",
    "        \n",
    "    Returns:\n",
    "    ---------\n",
    "    t : sampling times \n",
    "    '''\n",
    "    t_max = t_min + length*tau_in\n",
    "    if regular : \n",
    "        # evenly spaced sampling within the chosen interval \n",
    "        if verbose: \n",
    "            print('Using regular sampling')\n",
    "        if N_pts is None : \n",
    "            t = np.arange(t_min, t_max, dt)\n",
    "        else : \n",
    "            t = np.linspace(t_min, t_max, N_pts)\n",
    "    else :\n",
    "        # random sampling with the chosen number of points ... \n",
    "        # The output is sorted\n",
    "        if verbose: \n",
    "            print('Using random sampling')\n",
    "        if N_pts is None : \n",
    "            N_pts= int(np.floor((t_max - t_min) / dt))\n",
    "        t = np.sort(np.random.uniform(t_min, t_max, N_pts)) \n",
    "        \n",
    "    return t\n",
    "\n",
    "# general setup \n",
    "regular_sampling = False\n",
    "yerr =  0.001 # mags \n",
    "tau_in = 100 # days \n",
    "length = 20 \n",
    "sigma_in = 0.2 # mags \n",
    "SF_inf = sigma_in * np.sqrt(2)\n",
    "dt = 5.0  # length * tau_in / dt = 400 = N_points \n",
    "N_iterations =  1000\n",
    "\n",
    "# simulating the cadence and DRW sampled at \n",
    "# observed times ... \n",
    "t = sampling(tau_in = tau_in, length=length, regular=regular_sampling, dt=dt)\n",
    "y = sim_DRW_lightcurve(t, SF_inf, tau_in , 0)\n"
   ]
  },
  {
   "cell_type": "markdown",
   "metadata": {},
   "source": [
    "# Celerite fitting : impact of priors <a id='celerite_fit'></a>"
   ]
  },
  {
   "cell_type": "markdown",
   "metadata": {},
   "source": [
    "[go to top](#toc)"
   ]
  },
  {
   "cell_type": "code",
   "execution_count": 39,
   "metadata": {
    "collapsed": false
   },
   "outputs": [
    {
     "name": "stdout",
     "output_type": "stream",
     "text": [
      "We will save this figure in  /Users/chris/GradResearch/DRW_Celerite/data_products/Fig_Celerite_ZI_LC_fits/2017-11-14/\n"
     ]
    }
   ],
   "source": [
    "# Make a dir for the results \n",
    "outDir = os.path.join(os.getcwd()[:-4],'data_products/'+'Fig_Celerite_ZI_LC_fits',\n",
    "                      datetime.datetime.now().strftime('%Y-%m-%d')+ '/')\n",
    "if not os.path.exists(outDir): os.system('mkdir %s' % outDir)\n",
    "print('We will save this figure in  %s'%outDir)\n",
    "\n",
    "\n"
   ]
  },
  {
   "cell_type": "markdown",
   "metadata": {},
   "source": [
    "### Fitting loop : testing various priors <a id='fitting_loop'></a>"
   ]
  },
  {
   "cell_type": "markdown",
   "metadata": {},
   "source": [
    "[go to top](#toc)"
   ]
  },
  {
   "cell_type": "code",
   "execution_count": 31,
   "metadata": {
    "collapsed": false,
    "scrolled": false
   },
   "outputs": [
    {
     "name": "stdout",
     "output_type": "stream",
     "text": [
      "0\n",
      "100\n"
     ]
    },
    {
     "name": "stderr",
     "output_type": "stream",
     "text": [
      "/Users/chris/anaconda3/envs/py36/lib/python3.6/site-packages/ipykernel/__main__.py:114: RuntimeWarning: invalid value encountered in sqrt\n",
      "/Users/chris/anaconda3/envs/py36/lib/python3.6/site-packages/ipykernel/__main__.py:114: RuntimeWarning: invalid value encountered in sqrt\n"
     ]
    },
    {
     "name": "stdout",
     "output_type": "stream",
     "text": [
      "200\n",
      "300\n"
     ]
    },
    {
     "name": "stderr",
     "output_type": "stream",
     "text": [
      "/Users/chris/anaconda3/envs/py36/lib/python3.6/site-packages/ipykernel/__main__.py:114: RuntimeWarning: invalid value encountered in sqrt\n",
      "/Users/chris/anaconda3/envs/py36/lib/python3.6/site-packages/ipykernel/__main__.py:114: RuntimeWarning: invalid value encountered in sqrt\n"
     ]
    },
    {
     "name": "stdout",
     "output_type": "stream",
     "text": [
      "400\n",
      "500\n",
      "600\n",
      "700\n"
     ]
    },
    {
     "name": "stderr",
     "output_type": "stream",
     "text": [
      "/Users/chris/anaconda3/envs/py36/lib/python3.6/site-packages/ipykernel/__main__.py:114: RuntimeWarning: invalid value encountered in sqrt\n"
     ]
    },
    {
     "name": "stdout",
     "output_type": "stream",
     "text": [
      "800\n",
      "900\n"
     ]
    },
    {
     "name": "stderr",
     "output_type": "stream",
     "text": [
      "/Users/chris/anaconda3/envs/py36/lib/python3.6/site-packages/ipykernel/__main__.py:114: RuntimeWarning: invalid value encountered in sqrt\n"
     ]
    },
    {
     "name": "stdout",
     "output_type": "stream",
     "text": [
      "Saving to ../data_products/Fig_Celerite_ZI_LC_fits/2017-11-08/ZI_fits_results.npy\n"
     ]
    }
   ],
   "source": [
    "import numdifftools as nd\n",
    "\n",
    "# Fitting  : each light curve is fit with various settings : \n",
    "\n",
    "# we have decided to use the bounds since we found \n",
    "# having them does not affect much the results  \n",
    "# and both Kozlowski et al. , and MacLeod's codes\n",
    "# include some boundaries to avoid nonsensical results ... \n",
    "sigma_bounds = [0.001, 1.0]\n",
    "tau_bounds = [1,10000]\n",
    "sigma_in = 0.2\n",
    "tau_in = 100\n",
    "\n",
    "# fitting procedure : \n",
    "# initialize the Gaussian Process  RealTerm kernel ... \n",
    "# it can be done once for all fittings ... \n",
    "kernel = terms.RealTerm(log_a = 2 * np.log(sigma_in) , \n",
    "                        log_c = np.log(1/tau_in))\n",
    "\n",
    "DirIn = '../raw_data/DRWtestCeleriteZI/'\n",
    "files = os.listdir(DirIn)\n",
    "\n",
    "# initialize dictionaries to store the results  \n",
    "results = {}\n",
    "# define which priors we would like to try ... \n",
    "priors = ['flat', 'p1', 'p2', 'Jeff1', 'Jeff2']\n",
    "\n",
    "results['lc_name']  = np.zeros_like(files)\n",
    "for prior in  priors:\n",
    "    results[prior] = {'sigma_fit':np.zeros(len(files), dtype=float),\n",
    "                     'tau_fit':np.zeros(len(files), dtype=float),\n",
    "                     's_sigma':np.zeros(len(files), dtype=float),\n",
    "                     's_tau':np.zeros(len(files), dtype=float),\n",
    "                     's_loga':np.zeros(len(files), dtype=float),\n",
    "                     's_logc':np.zeros(len(files), dtype=float)}\n",
    "    \n",
    "for i in range(len(files)) : # len(files)\n",
    "    # print progress... \n",
    "    if (i % 100)== 0 : \n",
    "        print(i)\n",
    "    \n",
    "    # read in saved light curvesw\n",
    "    lc = Table.read(DirIn +files[i], format='ascii', names=['time', 'mag', 'err'] )    \n",
    "    t,y,yerr = lc['time'], lc['mag'], lc['err']\n",
    "    \n",
    "    # save the name of first lc...\n",
    "    results['lc_name'][i] = files[i]\n",
    "    \n",
    "    # call the model  with a chosen kernel instance \n",
    "    gp = celerite.GP(kernel, mean=np.mean(y))\n",
    "    gp.compute(t, yerr)\n",
    "    \n",
    "    initial_params = gp.get_parameter_vector()\n",
    "\n",
    "    for use_bounds, prior in product([True], priors):    \n",
    "        if use_bounds : # use some custom boundaries \n",
    "            logc_bounds= (np.log(1/max(tau_bounds)), np.log(1/min(tau_bounds)) )\n",
    "            loga_bounds = (2*np.log(min(sigma_bounds)), 2*np.log(max(sigma_bounds)))\n",
    "            bounds = [loga_bounds, logc_bounds]\n",
    "        else : # use the built-in boundaries (-inf : +inf )\n",
    "            bounds = gp.get_parameter_bounds()\n",
    "\n",
    "        if prior is 'flat' : \n",
    "            def neg_log_like(params, y, gp):\n",
    "                gp.set_parameter_vector(params)\n",
    "                return -gp.log_likelihood(y)\n",
    "\n",
    "        if prior is 'p1' : # sigma*tau \n",
    "            def neg_log_like(params,y,gp):\n",
    "                gp.set_parameter_vector(params)\n",
    "                log_a = params[0]\n",
    "                log_c = params[1]\n",
    "                return -gp.log_likelihood(y) - (log_a / 2.0) + log_c\n",
    "            \n",
    "        if prior is 'p2' : # sigma_hat * tau \n",
    "             def neg_log_like(params, y, gp):\n",
    "                gp.set_parameter_vector(params)\n",
    "                log_a = params[0]\n",
    "                log_c = params[1]\n",
    "                return -gp.log_likelihood(y)  +0.5* (-np.log(2) + log_c - log_a  )\n",
    "            \n",
    "        if prior is 'Jeff1' : # (1/sigma) * (1/tau) \n",
    "            def neg_log_like(params,y,gp):\n",
    "                gp.set_parameter_vector(params)\n",
    "                log_a = params[0]\n",
    "                log_c = params[1]\n",
    "                return -gp.log_likelihood(y) + (log_a / 2.0) - log_c\n",
    "            \n",
    "            \n",
    "        if prior is 'Jeff2' : # (1/sigma_hat) * (1/tau) \n",
    "            def neg_log_like(params, y, gp):\n",
    "                gp.set_parameter_vector(params)\n",
    "                log_a = params[0]\n",
    "                log_c = params[1]\n",
    "                return -gp.log_likelihood(y)  +0.5* (np.log(2) - log_c + log_a  )\n",
    "\n",
    "        # do the scipy optimize to find the maximum likelihood estimator \n",
    "        # for hyperparameters.... \n",
    "        r = minimize(neg_log_like, initial_params, \n",
    "                     method=\"L-BFGS-B\", bounds=bounds, args=(y, gp))\n",
    "        gp.set_parameter_vector(r.x)\n",
    "\n",
    "        # Find the Hessian matrix around the best-fit \n",
    "        # sigma, tau ... \n",
    "        def Wrap_neg_log_like(theta) : \n",
    "            return neg_log_like(theta, y, gp)\n",
    "\n",
    "        Hfun = nd.Hessian(Wrap_neg_log_like, full_output=True)\n",
    "        hessian_ndt, info = Hfun(r['x'])\n",
    "\n",
    "        # standard deviation is the square of variance\n",
    "        # note  : this error is the error on the \n",
    "        # MLE of the log_c , log_a \n",
    "        se = np.sqrt(np.diag(np.linalg.inv(hessian_ndt)))\n",
    "\n",
    "        # error from hessian on log_a, log_c\n",
    "        s_log_a, s_log_c = se[0],se[1]\n",
    "\n",
    "        # retrieve the best-fit parameters \n",
    "        res = gp.get_parameter_dict()\n",
    "        sigma_fit = np.exp(res['kernel:log_a']/2)\n",
    "        tau_fit = 1.0 / np.exp(res['kernel:log_c'])\n",
    "        \n",
    "        # these are natural logs\n",
    "        log_a = res['kernel:log_a']\n",
    "        log_c = res['kernel:log_c']\n",
    "\n",
    "        # convert to error on a, c  \n",
    "        s_a = s_log_a * np.exp(log_a)\n",
    "        s_c = s_log_c * np.exp(log_c)\n",
    "\n",
    "        # now a = sigma^2 ,  c = tau^{-1}\n",
    "        # convert to error on sigma, tau \n",
    "        s_sigma = s_a / (2 * sigma_fit)\n",
    "        s_tau = s_c * tau_fit*tau_fit\n",
    "        \n",
    "        # store the fit results and errors \n",
    "        results[prior]['sigma_fit'][i] = sigma_fit\n",
    "        results[prior]['tau_fit'][i] = tau_fit\n",
    "        results[prior]['s_sigma'][i] = s_sigma\n",
    "        results[prior]['s_tau'][i] = s_tau\n",
    "        results[prior]['s_loga'][i] = s_log_a\n",
    "        results[prior]['s_logc'][i] = s_log_c\n",
    "        #results[prior]['lc_name'][i] = files[i]\n",
    "        \n",
    "# Save the results ...\n",
    "fname = 'ZI_fits_results.npy'\n",
    "print('Saving to %s'%(outDir+fname))\n",
    "np.save(outDir+fname, results)        "
   ]
  },
  {
   "cell_type": "code",
   "execution_count": 35,
   "metadata": {
    "collapsed": false
   },
   "outputs": [
    {
     "name": "stdout",
     "output_type": "stream",
     "text": [
      "Saving to /Users/chris/GradResearch/DRW_Celerite/data_products/Fig_Celerite_ZI_LC_fits/2017-11-14/ZI_fits_results.npy\n"
     ]
    }
   ],
   "source": [
    "# Save the results ...\n",
    "fname = 'ZI_fits_results.npy'\n",
    "print('Saving to %s'%(outDir+fname))\n",
    "np.save(outDir+fname, results)        "
   ]
  },
  {
   "cell_type": "code",
   "execution_count": 33,
   "metadata": {
    "collapsed": false
   },
   "outputs": [],
   "source": [
    "#res['lc_name']"
   ]
  },
  {
   "cell_type": "markdown",
   "metadata": {
    "collapsed": false
   },
   "source": [
    "[go to plotting](#plotting)"
   ]
  },
  {
   "cell_type": "markdown",
   "metadata": {},
   "source": [
    "## Illustration : simulate observations with missing data <a id='illustrate'></a>"
   ]
  },
  {
   "cell_type": "markdown",
   "metadata": {},
   "source": [
    "[go to top](#toc)"
   ]
  },
  {
   "cell_type": "code",
   "execution_count": 86,
   "metadata": {
    "collapsed": false
   },
   "outputs": [
    {
     "data": {
      "image/png": "[encoded data removed]",
      "text/plain": [
       "<matplotlib.figure.Figure at 0x11c0ad940>"
      ]
     },
     "metadata": {},
     "output_type": "display_data"
    }
   ],
   "source": [
    "sigma_in = 0.2\n",
    "tau_in = 100 \n",
    "kernel = terms.RealTerm(log_a = 2 * np.log(sigma_in) , \n",
    "                        log_c = np.log(1/tau_in))\n",
    "i=0\n",
    "DirIn = '../raw_data/DRWtestCeleriteZI/'\n",
    "files = os.listdir(DirIn)\n",
    "lc = Table.read(DirIn +files[i], format='ascii', names=['time', 'mag', 'err'] )    \n",
    "\n",
    "start, stop = 200, 250  \n",
    "# the full observed array has 400 elements. .... \n",
    "# we remove some to simulate 'missing data window' ...\n",
    "\n",
    "t,y,yerr = list(lc['time'][:start])+list(lc['time'][stop:]), \\\n",
    "    list(lc['mag'][:start])+list(lc['mag'][stop:]),\\\n",
    "    list(lc['err'][:start])+list(lc['err'][stop:])\n",
    "\n",
    "    # call the model  with a chosen kernel instance \n",
    "gp = celerite.GP(kernel, mean=np.mean(y))\n",
    "gp.compute(t, yerr)\n",
    "\n",
    "initial_params = gp.get_parameter_vector()\n",
    "\n",
    "sigma_bounds = [0.001, 1.0]\n",
    "tau_bounds = [1,10000]\n",
    "\n",
    "\n",
    "use_bounds = True\n",
    "prior = 'new'\n",
    "#for use_bounds, prior in product([True], ['flat', 'exp', 'new']):    \n",
    "if use_bounds : # use some custom boundaries \n",
    "    logc_bounds= (np.log(1/max(tau_bounds)), np.log(1/min(tau_bounds)) )\n",
    "    loga_bounds = (2*np.log(min(sigma_bounds)), 2*np.log(max(sigma_bounds)))\n",
    "    bounds = [loga_bounds, logc_bounds]\n",
    "else : # use the built-in boundaries (-inf : +inf )\n",
    "    bounds = gp.get_parameter_bounds()\n",
    "\n",
    "if prior is 'flat' : \n",
    "    def neg_log_like(params, y, gp):\n",
    "        gp.set_parameter_vector(params)\n",
    "        return -gp.log_likelihood(y)\n",
    "\n",
    "if prior is 'exp' :\n",
    "    def neg_log_like(params, y, gp):\n",
    "        gp.set_parameter_vector(params)\n",
    "        log_a = params[0]\n",
    "        log_c = params[1]\n",
    "        #log_sigma = log_a / 2.0 \n",
    "        #log_tau = - log_c\n",
    "        return -gp.log_likelihood(y)  -0.5* (log_c - log_a - np.log(2))\n",
    "\n",
    "if prior is 'new' : \n",
    "    def neg_log_like(params,y,gp):\n",
    "        gp.set_parameter_vector(params)\n",
    "        log_a = params[0]\n",
    "        log_c = params[1]\n",
    "        log_sigma = log_a / 2.0 \n",
    "        log_tau = - log_c\n",
    "        sigma = np.exp(log_sigma)\n",
    "        tau  = np.exp(log_tau)\n",
    "        return -gp.log_likelihood(y) - np.log(1.0/sigma + 1.0/tau)\n",
    "\n",
    "# do the scipy optimize to find the maximum likelihood estimator \n",
    "# for hyperparameters.... \n",
    "#print('Using %s prior'%prior)\n",
    "r = minimize(neg_log_like, initial_params, \n",
    "             method=\"L-BFGS-B\", bounds=bounds, args=(y, gp))\n",
    "gp.set_parameter_vector(r.x)\n",
    "\n",
    "# retrieve the best-fit parameters \n",
    "res = gp.get_parameter_dict()\n",
    "sigma_fit = np.exp(res['kernel:log_a']/2)\n",
    "tau_fit = 1.0 / np.exp(res['kernel:log_c'])\n",
    "\n",
    "# predict the (Gaussian) conditional (on the observed data) \n",
    "# distribution for new observations, to get the \n",
    "# estimate for standard deviation \n",
    "\n",
    "# where should we evaluate prediction ? \n",
    "# a) best at the same points at which we are providing hte \n",
    "# simulated dataset ... \n",
    "#  x = t\n",
    "\n",
    "# b) at much denser sampling, so that we'll see that \n",
    "# the prediction becomes less certain when there is no\n",
    "# data ... (note region around 1000...)\n",
    "x = np.linspace(0, 2000, 5000) # t\n",
    "pred_mean, pred_var = gp.predict(y, x, return_var=True)\n",
    "pred_std = np.sqrt(pred_var)\n",
    "\n",
    "# plot the prediction vs the observations.... \n",
    "color = \"#ff7f0e\"\n",
    "#plt.plot(true_t, true_y, \"k\", lw=1.5, alpha=0.3)\n",
    "plt.errorbar(t, y, yerr=yerr, fmt=\".k\", capsize=0)\n",
    "plt.plot(x, pred_mean, color=color)\n",
    "plt.fill_between(x, pred_mean+pred_std, pred_mean-pred_std, color=color, alpha=0.3,\n",
    "                 edgecolor=\"none\")\n",
    "plt.xlabel(\"time\")\n",
    "plt.ylabel(\"flux\")\n",
    "plt.savefig(outDir+'DRW_missing_data_celerite_fit.png', bbox_inches='tight')\n"
   ]
  },
  {
   "cell_type": "code",
   "execution_count": 90,
   "metadata": {
    "collapsed": false
   },
   "outputs": [
    {
     "data": {
      "text/plain": [
       "-559.5408895221381"
      ]
     },
     "execution_count": 90,
     "metadata": {},
     "output_type": "execute_result"
    }
   ],
   "source": [
    "-gp.log_likelihood(y)"
   ]
  },
  {
   "cell_type": "markdown",
   "metadata": {},
   "source": [
    "### Calculating the errors on the MLE <a id='error_mle'></a>"
   ]
  },
  {
   "cell_type": "markdown",
   "metadata": {},
   "source": [
    "[go to top](#toc)"
   ]
  },
  {
   "cell_type": "code",
   "execution_count": 142,
   "metadata": {
    "collapsed": false
   },
   "outputs": [
    {
     "name": "stdout",
     "output_type": "stream",
     "text": [
      "[-3.01711956 -4.78624275]\n"
     ]
    }
   ],
   "source": [
    "# To find the errors on the MLE sigma, tau, \n",
    "# we take the objective function - the neg_log_like , and : \n",
    "# 1) calculate the Hessian matrix   H\n",
    "# 2) calculate the expectation at the minimum returned by the optimizer E[H]\n",
    "# 3) take the inverse of the Information matrix  ( I = -E[H] ) to get variance \n",
    "# 4) take the square root of variance to get standard deviation \n",
    "\n",
    "# In the calculation below I follow loosely \n",
    "# http://rlhick.people.wm.edu/posts/estimating-custom-mle.html\n",
    "import numdifftools as nd\n",
    "\n",
    "def Wrap_neg_log_like(theta) : \n",
    "    return neg_log_like(theta, y, gp)\n",
    "\n",
    "Hfun = nd.Hessian(Wrap_neg_log_like, full_output=True)\n",
    "hessian_ndt, info = Hfun(r['x'])\n",
    "\n",
    "# standard deviation is the square of variance\n",
    "# note  : this error is the error on the \n",
    "# MLE of the log_c , log_a \n",
    "se = np.sqrt(np.diag(np.linalg.inv(hessian_ndt)))\n",
    "\n",
    "# Note: \n",
    "#parameters : r['x']\n",
    "#std err : se   ( error on  log_a,  log_c ... )\n",
    "\n",
    "print(r['x'])\n",
    "\n",
    "# error from hessian on log_a, log_c\n",
    "s_log_a = se[0]\n",
    "s_log_c = se[1]\n",
    "\n",
    "# these are natural logs\n",
    "log_a = res['kernel:log_a']\n",
    "log_c = res['kernel:log_c']\n",
    "\n",
    "# convert to error on a, c  \n",
    "s_a = s_log_a * np.exp(log_a)\n",
    "s_c = s_log_c * np.exp(log_c)\n",
    "\n",
    "# now a = sigma^2 ,  c = tau^{-1}\n",
    "# convert to error on sigma, tau \n",
    "\n",
    "s_sigma = s_a / (2 * sigma_fit)\n",
    "s_tau = s_c * tau_fit*tau_fit\n",
    "\n",
    "\n"
   ]
  },
  {
   "cell_type": "code",
   "execution_count": 149,
   "metadata": {
    "collapsed": false
   },
   "outputs": [],
   "source": []
  },
  {
   "cell_type": "markdown",
   "metadata": {},
   "source": [
    "# Compare Celerite to Chelsea <a id='compare'></a>"
   ]
  },
  {
   "cell_type": "markdown",
   "metadata": {},
   "source": [
    "[go to top](#toc)"
   ]
  },
  {
   "cell_type": "markdown",
   "metadata": {},
   "source": [
    "\"I have attached the fits - the first four columns are:\n",
    "\n",
    "1. The light curve filename\n",
    "2. chi^2 of fit\n",
    "3. log(tau) (in days)\n",
    "4. log(sigma-hat) (in mag/sqrt(year))\n",
    "\n",
    "The fit parameters are similar to your input, with: \n",
    "\n",
    "$<\\tau>$ = 98.5 days \n",
    "\n",
    "$<\\sigma> = < SF_{\\infty} / \\sqrt{2} > = 0.2 $ mag\n",
    "\n",
    "\n",
    "The tau is more biased than sigma, since sigma-hat is well-constrained/not biased, while sigma goes as sqrt(tau).\n",
    "\n",
    "By the way, the last column list the number of acceptable data points that went into the fit, and sometimes it is <400 because it rejects duplicate MJD values. \n",
    "\""
   ]
  },
  {
   "cell_type": "markdown",
   "metadata": {},
   "source": [
    "### Plot Celerite and Chelsea fit results (global properties) <a id='plotting'></a>"
   ]
  },
  {
   "cell_type": "markdown",
   "metadata": {},
   "source": [
    "[go to top](#toc)"
   ]
  },
  {
   "cell_type": "code",
   "execution_count": 36,
   "metadata": {
    "collapsed": false
   },
   "outputs": [
    {
     "name": "stdout",
     "output_type": "stream",
     "text": [
      "Using Celerite results from ../data_products/Fig_Celerite_ZI_LC_fits/2017-11-08/ZI_fits_results_11-07-17.npy\n"
     ]
    },
    {
     "data": {
      "image/png": "[encoded data removed]",
      "text/plain": [
       "<matplotlib.figure.Figure at 0x11cf5e8d0>"
      ]
     },
     "metadata": {},
     "output_type": "display_data"
    }
   ],
   "source": [
    "import matplotlib.lines as mlines\n",
    "%matplotlib inline\n",
    "# plot histograms : marginalize along either dimension ... \n",
    "\n",
    "fig ,ax  = plt.subplots(2,1,figsize=(8,10))\n",
    "\n",
    "# two panels  : tau and sigma \n",
    "sigma_in = 0.2\n",
    "tau_in = 100 \n",
    "\n",
    "length = 20 \n",
    "i = 0 \n",
    "x0 = [0.2,0.62]\n",
    "\n",
    "x_max = 2  # maximum sigmafit / sigmain ratio\n",
    "y_max  = 3 # maximum taufit / tauin ratio \n",
    "\n",
    "# Grab Chelsea' results ...\n",
    "fits = Table.read('../data_products/Fig_Celerite_ZI_LC_fits/'+'fits.dat', \n",
    "                  format='ascii')\n",
    "tau_fit = np.power(10,fits['col3'].data)\n",
    "sigma_hat = np.power(10, fits['col4'].data)\n",
    "sigma_fit = sigma_hat / np.sqrt(2 / (tau_fit/365.0)) \n",
    "# to convert to mag / sqrt(years)...\n",
    "\n",
    "# Read the results from Celerite ...\n",
    "#outDir = '../data_products/Fig_Celerite_ZI_LC_fits/2017-11-08/'\n",
    "#fname = 'ZI_fits_results_11-07-17.npy'\n",
    "#results = np.load(outDir+fname).item()\n",
    "print('Using Celerite results from %s'%(outDir+fname))\n",
    "\n",
    "# need to store lines for axis legends in an object \n",
    "ax_legend_handles = {0:[], 1:[]}\n",
    "\n",
    "# line settings \n",
    "color_dic = {}\n",
    "ls_dic = {}\n",
    "lw_dic = {}\n",
    "data = ['Chelsea', 'flat', 'Jeff1', 'Jeff2', 'p1', 'p2']\n",
    "colors = ['indianred', 'chocolate', 'y', 'green', 'lightskyblue','darkslateblue']\n",
    "linestyles = ['solid','dotted','dashed','solid','dashed','dotted']\n",
    "linewidths  = [3,3,2,1,2,3]\n",
    "for i in range(len(data)):\n",
    "    color_dic[data[i]] = colors[i]\n",
    "    ls_dic[data[i]] = linestyles[i] \n",
    "    lw_dic[data[i]]= linewidths[i]\n",
    "\n",
    "plot_quantities = {'tau':{}, 'sigma':{}}\n",
    "priors = ['flat', 'p1', 'p2', 'Jeff1', 'Jeff2']\n",
    "for prior in priors : \n",
    "    plot_quantities['tau'][prior] = results[prior]['tau_fit'] / tau_in\n",
    "    plot_quantities['sigma'][prior] = results[prior]['sigma_fit'] / sigma_in\n",
    "plot_quantities['sigma']['Chelsea'] =  sigma_fit / sigma_in\n",
    "plot_quantities['tau']['Chelsea'] =  tau_fit / tau_in\n",
    "\n",
    "for source in ['Chelsea', 'flat', 'Jeff1', 'Jeff2'] :  #  'p1', 'p2']: # \n",
    "    x = plot_quantities['sigma'][source]\n",
    "    x = x[x<x_max]\n",
    "    ax[0].hist(x, histtype='step', lw=lw_dic[source], \n",
    "              ls=ls_dic[source], bins=40, color=color_dic[source],\n",
    "              normed=True)\n",
    "    rms  = np.sqrt(np.mean(np.square(x)))\n",
    "    bias = np.mean(x)\n",
    "    line = mlines.Line2D([], [], color=color_dic[source], \n",
    "                         lw=lw_dic[source],  ls=ls_dic[source],\n",
    "                         label=str(rms)[:5]+', '+str(bias)[:5]+' '+source)\n",
    "    ax_legend_handles[0].append(line)\n",
    "    \n",
    "    y = plot_quantities['tau'][source]\n",
    "    y = y[y<y_max]\n",
    "    ax[1].hist(y,  histtype='step', color=color_dic[source], \n",
    "               lw=lw_dic[source],  ls=ls_dic[source], bins=40, \n",
    "               normed=True)\n",
    "    rms  = np.sqrt(np.mean(np.square(y)))\n",
    "    bias = np.mean(y)\n",
    "    line = mlines.Line2D([], [], color=color_dic[source], \n",
    "                         lw=lw_dic[source],  ls=ls_dic[source],\n",
    "                         label=str(rms)[:5]+', '+str(bias)[:5]+' '+source)\n",
    "    ax_legend_handles[1].append(line)\n",
    "    \n",
    "\n",
    "ax[0].set_xlabel(r'$\\sigma_{fit}\\,/ \\,\\sigma_{in}$')\n",
    "ax[1].set_xlabel(r'$\\tau_{fit} \\,/\\, \\tau_{in}$')\n",
    "\n",
    "for i in [0,1]:\n",
    "    ax[i].legend(loc='upper left', handles = ax_legend_handles[i], frameon=False,\n",
    "                bbox_to_anchor=(0.51, 0.9), fontsize=15)\n",
    "    ax[i].axvline(1, lw=4, ls='--', c='red', dashes=(5,5))\n",
    "    ax[i].set_ylabel('normed counts')\n",
    "    ax[i].text(0.65, 0.91, 'rms:   bias:  source: ',\n",
    "               transform=ax[i].transAxes, fontsize=15)\n",
    "\n",
    "\n",
    "    \n",
    "fig.subplots_adjust(hspace=0.25)\n",
    "#fig.suptitle('N = '+str(len(t))+', length = '+str(length)+  r'$ \\tau_{in}$,'+' '\\\n",
    "#                 +str(len(x))+' fits' + '\\n' \\\n",
    "#                 + 'err='+str(yerr[0])+' [mag], '+b, fontsize=20)\n",
    "plt.savefig(outDir + 'sigma_tau_ratios_chelsea_celerite1.png', bbox_inches='tight')\n",
    "# in each panel , plot histogram of both "
   ]
  },
  {
   "cell_type": "markdown",
   "metadata": {},
   "source": []
  },
  {
   "cell_type": "markdown",
   "metadata": {},
   "source": [
    "Plot the best-fit $\\sigma$  vs $\\tau$ : "
   ]
  },
  {
   "cell_type": "code",
   "execution_count": 9,
   "metadata": {
    "collapsed": false
   },
   "outputs": [
    {
     "data": {
      "text/plain": [
       "dict_keys(['flat', 'p1', 'p2'])"
      ]
     },
     "execution_count": 9,
     "metadata": {},
     "output_type": "execute_result"
    }
   ],
   "source": [
    "results.keys()"
   ]
  },
  {
   "cell_type": "code",
   "execution_count": 47,
   "metadata": {
    "collapsed": false,
    "scrolled": true
   },
   "outputs": [
    {
     "name": "stderr",
     "output_type": "stream",
     "text": [
      "/Users/chris/anaconda3/envs/py36/lib/python3.6/site-packages/ipykernel/__main__.py:51: RuntimeWarning: divide by zero encountered in log10\n"
     ]
    },
    {
     "name": "stdout",
     "output_type": "stream",
     "text": [
      "flat sigma 0.191570131506\n",
      "flat tau 92.279512304\n",
      "p1 sigma 0.208653876392\n",
      "p1 tau 112.317020027\n",
      "p2 sigma 0.201913306057\n",
      "p2 tau 104.081424303\n",
      "Jeff1 sigma 0.18111567296\n",
      "Jeff1 tau 81.4052039283\n",
      "Jeff2 sigma 0.184147059847\n",
      "Jeff2 tau 84.5331163662\n",
      "Chelsea sigma 0.203633409545\n",
      "Chelsea tau 104.337237482\n"
     ]
    },
    {
     "data": {
      "image/png": "[encoded data removed]",
      "text/plain": [
       "<matplotlib.figure.Figure at 0x11bac2748>"
      ]
     },
     "metadata": {},
     "output_type": "display_data"
    }
   ],
   "source": [
    "%matplotlib inline\n",
    "from scipy.stats import binned_statistic_2d\n",
    "fig,axs = plt.subplots(2,3,figsize=(18,12))\n",
    "ax = np.ravel(axs)\n",
    "\n",
    "plot = {'tau':{}, \n",
    "        'sigma':{}\n",
    "       }\n",
    "for prior in ['flat', 'p1','p2', 'Jeff1', 'Jeff2']:\n",
    "    plot['tau'][prior] = results[prior]['tau_fit'] \n",
    "    plot['sigma'][prior] = results[prior]['sigma_fit'] \n",
    "\n",
    "fits = Table.read('../data_products/Fig_Celerite_ZI_LC_fits/'+'fits.dat', \n",
    "                  format='ascii')\n",
    "tau_fit = np.power(10,fits['col3'].data)\n",
    "sigma_hat = np.power(10, fits['col4'].data)\n",
    "sigma_fit = sigma_hat / np.sqrt(2 / (tau_fit/365.0)) \n",
    "plot['sigma']['Chelsea'] =  sigma_fit \n",
    "plot['tau']['Chelsea'] =  tau_fit \n",
    "\n",
    "ax_title = {'flat':'flat prior ', \n",
    "           'p1' : r'$\\sigma \\tau$',\n",
    "           'p2': r'$\\hat{\\sigma} \\tau$',\n",
    "           'Jeff1': r'$1 / (\\sigma \\tau)$', \n",
    "           'Jeff2': r'$1/(\\hat{\\sigma} \\tau)$',\n",
    "           'Chelsea' : 'Chelsea'}\n",
    "\n",
    "i=0\n",
    "x0 = [0.2,0.4,0.6]\n",
    "\n",
    "dict_a = {}\n",
    "for source in ['flat', 'p1','p2', 'Jeff1', 'Jeff2', 'Chelsea']:\n",
    "    dict_a[source]  = {}\n",
    "    sigma = plot['sigma'][source]\n",
    "    tau = plot['tau'][source]\n",
    "    mx = sigma < 0.5 \n",
    "    my = tau < 300 \n",
    "    m = mx * my \n",
    "    x = sigma[m]\n",
    "    y = tau[m]\n",
    "\n",
    "    # Plot 2D histogram using pcolor\n",
    "    stats = binned_statistic_2d(y,x,y, statistic='count', bins=50)\n",
    "    z_sigma, x_edges, y_edges = stats[0], stats[1], stats[2]\n",
    "    z_sigma[np.isnan(z_sigma)] =0 # replace all nan's by 0 ...\n",
    "    z_reduce  =  z_sigma\n",
    "    z_min, z_max = z_reduce.min(), np.abs(z_reduce).max()\n",
    "    z_rot = np.rot90(z_reduce)  # rotate and flip to properly display... \n",
    "    z_rot_flip = np.flipud(z_rot)\n",
    "    z_masked = np.ma.masked_where(z_rot_flip == 0 , z_rot_flip)\n",
    "    image = ax[i].pcolormesh(x_edges,y_edges, np.log10(z_masked), \n",
    "                             cmap=plt.cm.get_cmap('RdYlBu'))\n",
    "    #cax = fig.add_axes([x0, 0.8, 0.4,0.02])\n",
    "    #colorbar = fig.colorbar(image, cax=cax, orientation='horizontal')\n",
    "    #from matplotlib import ticker\n",
    "    #tick_locator = ticker.MaxNLocator(nbins=5)\n",
    "    #colorbar.locator = tick_locator\n",
    "    #colorbar.update_ticks()\n",
    "    #colorbar.set_label(r'$\\log_{10}(\\mathrm{counts})$')\n",
    "    print(source,'sigma', np.sqrt(np.mean(np.square(x))))\n",
    "    print(source,'tau', np.sqrt(np.mean(np.square(y))))\n",
    "    dict_a[source]['rms_sigma'] = np.sqrt(np.mean(np.square(x)))\n",
    "    dict_a[source]['rms_tau'] = np.sqrt(np.mean(np.square(y)))\n",
    "    dict_a[source]['std_sigma']  = np.std(x)\n",
    "    dict_a[source]['std_tau'] = np.std(y)\n",
    "    \n",
    "    ax[i].plot(100,0.2,marker='+', markersize=30,\n",
    "            markerfacecolor='white', \n",
    "            markeredgewidth=5.0,\n",
    "           markeredgecolor='red')\n",
    "    ax[i].set_title( ax_title[source])\n",
    "    i+=1\n",
    "fig.text(0.5,0.05, r'$\\tau_{fit}$', fontsize=20)\n",
    "fig.text(0.05, 0.5, r'$\\sigma_{fit}$', rotation=90, fontsize=20)\n",
    "fig.subplots_adjust(wspace=0.2)\n",
    "plt.savefig(outDir+'sigma_vs_tau.png')\n",
    "plt.show()"
   ]
  },
  {
   "cell_type": "code",
   "execution_count": 26,
   "metadata": {
    "collapsed": false
   },
   "outputs": [
    {
     "name": "stdout",
     "output_type": "stream",
     "text": [
      "26.9733933351 0.0275850463801\n",
      "46.27696859 0.0410838220348\n",
      "36.0642678163 0.0343298055845\n",
      "20.3683447299 0.0222676096605\n",
      "22.1277384901 0.0237085119261\n"
     ]
    }
   ],
   "source": [
    "dict_b = {}\n",
    "for prior in ['flat', 'p1','p2', 'Jeff1', 'Jeff2']:\n",
    "    dict_b[prior] = {}\n",
    "    s_tau = results[prior]['s_tau']\n",
    "    s_tau = s_tau[np.bitwise_not(np.isnan(s_tau))]\n",
    "    \n",
    "    s_sigma = results[prior]['s_sigma']\n",
    "    s_sigma = s_sigma[np.bitwise_not(np.isnan(s_sigma))]\n",
    "    \n",
    "    print(np.mean(s_tau), np.mean(s_sigma))\n",
    "    dict_b[prior]['mean_s_tau'] = np.mean(s_tau)\n",
    "    dict_b[prior]['mean_s_sigma'] = np.mean(s_sigma)\n",
    "    \n",
    "    "
   ]
  },
  {
   "cell_type": "code",
   "execution_count": 33,
   "metadata": {
    "collapsed": false
   },
   "outputs": [
    {
     "data": {
      "text/plain": [
       "{'rms_sigma': 0.20363340954499307, 'rms_tau': 104.33723748172837}"
      ]
     },
     "execution_count": 33,
     "metadata": {},
     "output_type": "execute_result"
    }
   ],
   "source": [
    "dict_a.pop('Chelsea', None)"
   ]
  },
  {
   "cell_type": "code",
   "execution_count": 35,
   "metadata": {
    "collapsed": false
   },
   "outputs": [
    {
     "data": {
      "text/plain": [
       "{'Jeff1': {'mean_s_sigma': 0.022267609660508274,\n",
       "  'mean_s_tau': 20.36834472989143},\n",
       " 'Jeff2': {'mean_s_sigma': 0.023708511926075683,\n",
       "  'mean_s_tau': 22.127738490068705},\n",
       " 'flat': {'mean_s_sigma': 0.027585046380137753,\n",
       "  'mean_s_tau': 26.973393335063324},\n",
       " 'p1': {'mean_s_sigma': 0.041083822034826238, 'mean_s_tau': 46.27696859003445},\n",
       " 'p2': {'mean_s_sigma': 0.034329805584451104,\n",
       "  'mean_s_tau': 36.064267816319038}}"
      ]
     },
     "execution_count": 35,
     "metadata": {},
     "output_type": "execute_result"
    }
   ],
   "source": [
    "dict_b"
   ]
  },
  {
   "cell_type": "code",
   "execution_count": 48,
   "metadata": {
    "collapsed": false
   },
   "outputs": [
    {
     "data": {
      "text/plain": [
       "{'Chelsea': {'rms_sigma': 0.20363340954499307,\n",
       "  'rms_tau': 104.33723748172837,\n",
       "  'std_sigma': 0.032843054743282946,\n",
       "  'std_tau': 34.422189215079676},\n",
       " 'Jeff1': {'rms_sigma': 0.18111567295976011,\n",
       "  'rms_tau': 81.405203928257308,\n",
       "  'std_sigma': 0.023898527343633864,\n",
       "  'std_tau': 21.658915505498442},\n",
       " 'Jeff2': {'rms_sigma': 0.18414705984692706,\n",
       "  'rms_tau': 84.533116366222288,\n",
       "  'std_sigma': 0.024918071499582636,\n",
       "  'std_tau': 23.07564741222253},\n",
       " 'flat': {'rms_sigma': 0.19157013150640265,\n",
       "  'rms_tau': 92.279512304020074,\n",
       "  'std_sigma': 0.027712520932928589,\n",
       "  'std_tau': 26.995996599185663},\n",
       " 'p1': {'rms_sigma': 0.20865387639245969,\n",
       "  'rms_tau': 112.31702002653991,\n",
       "  'std_sigma': 0.035606270311310778,\n",
       "  'std_tau': 38.904370175017213},\n",
       " 'p2': {'rms_sigma': 0.20191330605733374,\n",
       "  'rms_tau': 104.08142430288095,\n",
       "  'std_sigma': 0.032507818676234874,\n",
       "  'std_tau': 34.094060715128791}}"
      ]
     },
     "execution_count": 48,
     "metadata": {},
     "output_type": "execute_result"
    }
   ],
   "source": [
    "dict_a"
   ]
  },
  {
   "cell_type": "code",
   "execution_count": 51,
   "metadata": {
    "collapsed": false
   },
   "outputs": [],
   "source": [
    "p = ['Jeff1', 'Jeff2', 'flat', 'p1', 'p2']\n",
    "rms_sigma = [0.18111567295976011,  0.1841470598469270,  0.191570131506402, \n",
    "            0.2086538763924596,0.20191330605733]\n",
    "rms_tau = [81.40520392825730, 84.53311636622228,92.27951230402007,\n",
    "          112.3170200265399, 104.081424302880]\n",
    "mean_s_sigma = [0.02226760966050, 0.0237085119260756,0.02758504638013,\n",
    "               0.04108382203482, 0.034329805584451] \n",
    "mean_s_tau = [20.3683447298914, 22.12773849006870, 26.9733933350633,\n",
    "             46.276968590034, 36.064267816319]\n",
    "\n",
    "std_sigma = [0.02389852, 0.0249180714995, 0.02771252093292,  \n",
    "             0.035606270311310, 0.03250781867623487]\n",
    "std_tau = [21.6589155054, 23.075647412222, 26.99599659918, \n",
    "           38.904370175017, 34.09406071512879]\n",
    "table = Table([p,rms_sigma,mean_s_sigma,std_sigma, rms_tau,mean_s_tau,   std_tau ], \n",
    "              names=('prior', 'rms_sigma','mean_s_sigma', 'std_sigma',  'rms_tau',\n",
    "                     'mean_s_tau','std_tau'))"
   ]
  },
  {
   "cell_type": "code",
   "execution_count": 52,
   "metadata": {
    "collapsed": false
   },
   "outputs": [
    {
     "data": {
      "text/html": [
       "&lt;Table length=5&gt;\n",
       "<table id=\"table4757447680\" class=\"table-striped table-bordered table-condensed\">\n",
       "<thead><tr><th>prior</th><th>rms_sigma</th><th>mean_s_sigma</th><th>std_sigma</th><th>rms_tau</th><th>mean_s_tau</th><th>std_tau</th></tr></thead>\n",
       "<thead><tr><th>str5</th><th>float64</th><th>float64</th><th>float64</th><th>float64</th><th>float64</th><th>float64</th></tr></thead>\n",
       "<tr><td>Jeff1</td><td>0.18111567296</td><td>0.0222676096605</td><td>0.02389852</td><td>81.4052039283</td><td>20.3683447299</td><td>21.6589155054</td></tr>\n",
       "<tr><td>Jeff2</td><td>0.184147059847</td><td>0.0237085119261</td><td>0.0249180714995</td><td>84.5331163662</td><td>22.1277384901</td><td>23.0756474122</td></tr>\n",
       "<tr><td>flat</td><td>0.191570131506</td><td>0.0275850463801</td><td>0.0277125209329</td><td>92.279512304</td><td>26.9733933351</td><td>26.9959965992</td></tr>\n",
       "<tr><td>p1</td><td>0.208653876392</td><td>0.0410838220348</td><td>0.0356062703113</td><td>112.317020027</td><td>46.27696859</td><td>38.904370175</td></tr>\n",
       "<tr><td>p2</td><td>0.201913306057</td><td>0.0343298055845</td><td>0.0325078186762</td><td>104.081424303</td><td>36.0642678163</td><td>34.0940607151</td></tr>\n",
       "</table>"
      ],
      "text/plain": [
       "<Table length=5>\n",
       "prior   rms_sigma      mean_s_sigma  ...   mean_s_tau     std_tau   \n",
       " str5    float64         float64     ...    float64       float64   \n",
       "----- -------------- --------------- ... ------------- -------------\n",
       "Jeff1  0.18111567296 0.0222676096605 ... 20.3683447299 21.6589155054\n",
       "Jeff2 0.184147059847 0.0237085119261 ... 22.1277384901 23.0756474122\n",
       " flat 0.191570131506 0.0275850463801 ... 26.9733933351 26.9959965992\n",
       "   p1 0.208653876392 0.0410838220348 ...   46.27696859  38.904370175\n",
       "   p2 0.201913306057 0.0343298055845 ... 36.0642678163 34.0940607151"
      ]
     },
     "execution_count": 52,
     "metadata": {},
     "output_type": "execute_result"
    }
   ],
   "source": [
    "table"
   ]
  },
  {
   "cell_type": "markdown",
   "metadata": {},
   "source": [
    "## Combine Celerite and Chelsea results, save as a table <a id='save'></a>"
   ]
  },
  {
   "cell_type": "markdown",
   "metadata": {},
   "source": [
    "[go to top](#toc)"
   ]
  },
  {
   "cell_type": "code",
   "execution_count": 17,
   "metadata": {
    "collapsed": false
   },
   "outputs": [
    {
     "data": {
      "text/plain": [
       "dict_keys(['sigma_fit', 'tau_fit', 's_sigma', 's_tau', 's_loga', 's_logc'])"
      ]
     },
     "execution_count": 17,
     "metadata": {},
     "output_type": "execute_result"
    }
   ],
   "source": [
    "#results['flat'].keys()"
   ]
  },
  {
   "cell_type": "code",
   "execution_count": 40,
   "metadata": {
    "collapsed": false
   },
   "outputs": [
    {
     "name": "stdout",
     "output_type": "stream",
     "text": [
      "Combined results saved as /Users/chris/GradResearch/DRW_Celerite/data_products/Fig_Celerite_ZI_LC_fits/2017-11-14/celerite_chelsea_fit_results.txt \n"
     ]
    }
   ],
   "source": [
    "# Make an AstroPy table from Celerite fit results \n",
    "celerite_fits = Table()\n",
    "celerite_fits['name'] = results['lc_name']\n",
    "for prior in priors : \n",
    "    for key in results[prior].keys():\n",
    "        colname = prior + '-'+key\n",
    "        celerite_fits[colname] = results[prior][key]\n",
    "        \n",
    "# Make an AstroPy table from Chelsea fit results        \n",
    "fits = Table.read(outDir[:-11]+ 'fits.dat', format='ascii')\n",
    "chelsea_fits = Table()\n",
    "chelsea_fits['name'] = fits['col1']\n",
    "chelsea_fits['Chelsea_tau'] = np.power(10,fits['col3'].data)\n",
    "sigma_hat = np.power(10, fits['col4'].data)\n",
    "chelsea_fits['Chelsea_sigma']  = sigma_hat / np.sqrt(2 / (tau_fit/365.0))\n",
    "#  to convert to mag / sqrt(years)...\n",
    "\n",
    "# merge on name \n",
    "from astropy.table import join\n",
    "combined = join(celerite_fits, chelsea_fits)\n",
    "\n",
    "# save the result ...\n",
    "fname = 'celerite_chelsea_fit_results.txt'\n",
    "combined.write(outDir + fname, format='ascii', overwrite='True')\n",
    "print('Combined results saved as %s '%(outDir+fname))"
   ]
  },
  {
   "cell_type": "markdown",
   "metadata": {},
   "source": [
    "\"I have attached the fits - the first four columns are:\n",
    "\n",
    "1. The light curve filename\n",
    "2. $\\chi^2$ of fit\n",
    "3. log(tau) (in days)\n",
    "4. log(sigma-hat) (in mag/sqrt(year))\n",
    "\n",
    "The fit parameters are similar to your input, with: \n",
    "\n",
    "$<\\tau>$ = 98.5 days \n",
    "\n",
    "$<\\sigma> = < SF_{\\infty} / \\sqrt{2} > = 0.2 $ mag\n",
    "\n",
    "\n",
    "The tau is more biased than sigma, since sigma-hat is well-constrained/not biased, while sigma goes as sqrt(tau).\n",
    "\n",
    "By the way, the last column list the number of acceptable data points that went into the fit, and sometimes it is <400 because it rejects duplicate MJD values. \n",
    "\""
   ]
  },
  {
   "cell_type": "code",
   "execution_count": 129,
   "metadata": {
    "collapsed": false
   },
   "outputs": [
    {
     "data": {
      "text/plain": [
       "0.027585046380137753"
      ]
     },
     "execution_count": 129,
     "metadata": {},
     "output_type": "execute_result"
    }
   ],
   "source": [
    "prior = 'flat'\n",
    "np.mean(results[prior]['s_sigma'])"
   ]
  },
  {
   "cell_type": "code",
   "execution_count": 128,
   "metadata": {
    "collapsed": false
   },
   "outputs": [
    {
     "data": {
      "text/plain": [
       "dict_keys(['sigma_fit', 'tau_fit', 's_sigma', 's_tau', 's_loga', 's_logc'])"
      ]
     },
     "execution_count": 128,
     "metadata": {},
     "output_type": "execute_result"
    }
   ],
   "source": [
    "results[prior].keys()"
   ]
  },
  {
   "cell_type": "code",
   "execution_count": 130,
   "metadata": {
    "collapsed": false
   },
   "outputs": [
    {
     "data": {
      "text/plain": [
       "0.026236452833659451"
      ]
     },
     "execution_count": 130,
     "metadata": {},
     "output_type": "execute_result"
    }
   ],
   "source": [
    "for prior i results[prior]['s_sigma']"
   ]
  },
  {
   "cell_type": "code",
   "execution_count": null,
   "metadata": {
    "collapsed": true
   },
   "outputs": [],
   "source": []
  }
 ],
 "metadata": {
  "kernelspec": {
   "display_name": "Python 3",
   "language": "python",
   "name": "python3"
  },
  "language_info": {
   "codemirror_mode": {
    "name": "ipython",
    "version": 3
   },
   "file_extension": ".py",
   "mimetype": "text/x-python",
   "name": "python",
   "nbconvert_exporter": "python",
   "pygments_lexer": "ipython3",
   "version": "3.6.0"
  }
 },
 "nbformat": 4,
 "nbformat_minor": 2
}
