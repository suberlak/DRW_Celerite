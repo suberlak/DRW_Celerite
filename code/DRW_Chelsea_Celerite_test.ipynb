{
 "cells": [
  {
   "cell_type": "markdown",
   "metadata": {},
   "source": [
    "### Executive Summary"
   ]
  },
  {
   "cell_type": "markdown",
   "metadata": {},
   "source": [
    "A notebook to simulate 1000 DRW light curves,  with 400 points each, spanning length of 2000 days,  with separation of 5 days , and input timescale of 100  days, so that the light curve is well within the unbiased regime ( much longer  than  10 timescales ) . We present the code used to simulate the light curves,  the results of using the code of Chelsea MacLeod to fit these light curves, and the results of fitting them with Celerite. \n",
    "\n"
   ]
  },
  {
   "cell_type": "markdown",
   "metadata": {},
   "source": [
    "### Imports "
   ]
  },
  {
   "cell_type": "code",
   "execution_count": 6,
   "metadata": {
    "collapsed": true
   },
   "outputs": [],
   "source": [
    "import numpy as np \n",
    "import os\n",
    "import datetime\n",
    "from itertools import product\n",
    "from scipy.optimize import minimize\n",
    "\n",
    "import matplotlib.pyplot as plt\n",
    "from matplotlib import rcParams      \n",
    "rcParams['ytick.labelsize'] = 15\n",
    "rcParams['xtick.labelsize'] = 15\n",
    "rcParams['axes.labelsize'] = 20\n",
    "rcParams['axes.linewidth'] = 2\n",
    "rcParams['font.size'] = 15\n",
    "rcParams['axes.titlesize'] = 18\n",
    "\n",
    "import celerite\n",
    "import numpy as np\n",
    "import matplotlib.pyplot as plt\n",
    "from celerite import terms\n",
    "from astropy.table import Table\n",
    "from astropy.table import vstack\n",
    "from astropy.table import Column"
   ]
  },
  {
   "cell_type": "markdown",
   "metadata": {},
   "source": [
    "Input properties for each of the 1000 light curves  : \n",
    "\n",
    "  $\\tau_{in} = 100 $ days\n",
    "   \n",
    "  $\\sigma_{in} = 0.2  $ mag\n",
    "\n",
    "  $SF_{\\infty} = 0.2*\\sqrt{2} = 0.2828$ mag\n",
    "\n",
    "length = $l= 20 \\tau$\n",
    "\n",
    "dt = 5 days \n",
    "\n",
    "random sampling  from a uniform distribution \n",
    "\n",
    "yerr = 0.001  mag \n",
    "\n",
    "400 points "
   ]
  },
  {
   "cell_type": "markdown",
   "metadata": {},
   "source": [
    "## Code to simulate light curves "
   ]
  },
  {
   "cell_type": "markdown",
   "metadata": {},
   "source": [
    "These light curves were simulated with the following code :"
   ]
  },
  {
   "cell_type": "code",
   "execution_count": null,
   "metadata": {
    "collapsed": true
   },
   "outputs": [],
   "source": [
    "def sim_DRW_lightcurve(t,SFinf,tau,mean_mag):\n",
    "    '''Simulate a DRW lightcurve for a given time series t, with parameters\n",
    "       (SFinf, tau), and mean magnitude.\n",
    "       Uses equations A4 and A5 in Kelly 2009 (see also MacLeod+10 sec 2.2).'''\n",
    "    mu = mean_mag  # the input parameter : mean mag: make an alias \n",
    "    mag = np.zeros(len(t),dtype=np.float32) # initialize an array of empty values\n",
    "    mag[0] = mean_mag # start from the mean magnitude \n",
    "    dt = np.diff(t) # an array of differences  t[i+1]-t[i]\n",
    "    for i in range(1,len(t)):\n",
    "        # calculate the mean \n",
    "        loc = np.exp(-dt[i-1]/tau)*mag[i-1] + mu*(1-np.exp(-dt[i-1]/tau))\n",
    "        # calculate the variance \n",
    "        var = 0.5 * SFinf**2 * (1-np.exp(-2*dt[i-1]/tau))\n",
    "        # draw the magnitude value from a Gaussian distribution\n",
    "        # with a given mean and standard deviation ( = sqrt(variance))\n",
    "        mag[i] = np.random.normal(loc=loc,scale=np.sqrt(var))\n",
    "    return mag\n",
    "\n",
    "\n",
    "def sampling(tau_in = 100, length=10, t_min=1, N_pts = None,  dt = 10 , \n",
    "                        regular=False, verbose=False):\n",
    "    ''' A convenience function to return user-defined sampling \n",
    "    \n",
    "    Input: \n",
    "    -------\n",
    "    tau_in : input timescale (default: 100 days )\n",
    "    length : length in terms of multiples of timescale (default: 10) \n",
    "    t_min : starting point of lightcurve (default : 1 )\n",
    "    N_pts: if provided , then we choose the dt based on the number \n",
    "         of points desired. Otherwise the number of points is \n",
    "         calculated based on the desired spacing. \n",
    "    dt : interval between samplings, if regular = True, then \n",
    "        this is the exact interval,  otherwise we divide the \n",
    "        light curve length by dt to determine the number \n",
    "        of points \n",
    "    regular : boolean (True / False). Use regular sampling with dt, \n",
    "        or random sampling with Npts = floor(total_timespan / dt) ? \n",
    "        \n",
    "    Returns:\n",
    "    ---------\n",
    "    t : sampling times \n",
    "    '''\n",
    "    t_max = t_min + length*tau_in\n",
    "    if regular : \n",
    "        # evenly spaced sampling within the chosen interval \n",
    "        if verbose: \n",
    "            print('Using regular sampling')\n",
    "        if N_pts is None : \n",
    "            t = np.arange(t_min, t_max, dt)\n",
    "        else : \n",
    "            t = np.linspace(t_min, t_max, N_pts)\n",
    "    else :\n",
    "        # random sampling with the chosen number of points ... \n",
    "        # The output is sorted\n",
    "        if verbose: \n",
    "            print('Using random sampling')\n",
    "        if N_pts is None : \n",
    "            N_pts= int(np.floor((t_max - t_min) / dt))\n",
    "        t = np.sort(np.random.uniform(t_min, t_max, N_pts)) \n",
    "        \n",
    "    return t\n",
    "\n",
    "# general setup \n",
    "regular_sampling = False\n",
    "yerr =  0.001 # mags \n",
    "tau_in = 100 # days \n",
    "length = 20 \n",
    "sigma_in = 0.2 # mags \n",
    "SF_inf = sigma_in * np.sqrt(2)\n",
    "dt = 5.0  # length * tau_in / dt = 400 = N_points \n",
    "N_iterations =  1000\n",
    "\n",
    "# simulating the cadence and DRW sampled at \n",
    "# observed times ... \n",
    "t = sampling(tau_in = tau_in, length=length, regular=regular_sampling, dt=dt)\n",
    "y = sim_DRW_lightcurve(t, SF_inf, tau_in , 0)\n"
   ]
  },
  {
   "cell_type": "code",
   "execution_count": null,
   "metadata": {
    "collapsed": true
   },
   "outputs": [],
   "source": []
  },
  {
   "cell_type": "markdown",
   "metadata": {},
   "source": [
    "### Using the saved light curves vs Chelsea"
   ]
  },
  {
   "cell_type": "code",
   "execution_count": 7,
   "metadata": {
    "collapsed": false
   },
   "outputs": [
    {
     "name": "stdout",
     "output_type": "stream",
     "text": [
      "We will save this figure in  /Users/chris/GradResearch/DRW_Celerite/data_products/Fig_Celerite_ZI_LC_fits/2017-10-31/\n"
     ]
    }
   ],
   "source": [
    "# Make a dir for the results \n",
    "outDir = os.path.join(os.getcwd()[:-4],'data_products/'+'Fig_Celerite_ZI_LC_fits',\n",
    "                      datetime.datetime.now().strftime('%Y-%m-%d')+ '/')\n",
    "if not os.path.exists(outDir): os.system('mkdir %s' % outDir)\n",
    "print('We will save this figure in  %s'%outDir)\n",
    "\n"
   ]
  },
  {
   "cell_type": "markdown",
   "metadata": {},
   "source": [
    "\"I have attached the fits - the first four columns are:\n",
    "\n",
    "1. The light curve filename\n",
    "2. chi^2 of fit\n",
    "3. log(tau) (in days)\n",
    "4. log(sigma-hat) (in mag/sqrt(year))\n",
    "\n",
    "The fit parameters are similar to your input, with: \n",
    "\n",
    "$<\\tau>$ = 98.5 days \n",
    "\n",
    "$<\\sigma> = < SF_{\\infty} / \\sqrt{2} > = 0.2 $ mag\n",
    "\n",
    "\n",
    "The tau is more biased than sigma, since sigma-hat is well-constrained/not biased, while sigma goes as sqrt(tau).\n",
    "\n",
    "By the way, the last column list the number of acceptable data points that went into the fit, and sometimes it is <400 because it rejects duplicate MJD values. \n",
    "\""
   ]
  },
  {
   "cell_type": "code",
   "execution_count": 18,
   "metadata": {
    "collapsed": false
   },
   "outputs": [],
   "source": [
    "# Read in Chelsea results ,  and convert to sigma, tau : \n",
    "outDir = '../data_products/Fig_Celerite_ZI_LC_fits/2017-10-27/'\n",
    "fits = Table.read(outDir+'fits.dat', format='ascii')\n",
    "tau_fit = np.power(10,fits['col3'].data)\n",
    "sigma_hat = np.power(10, fits['col4'].data)\n",
    "sigma_fit = sigma_hat / np.sqrt(2 / (tau_fit /365.0))  # to convert to mag / sqrt(years)..."
   ]
  },
  {
   "cell_type": "code",
   "execution_count": 11,
   "metadata": {
    "collapsed": false
   },
   "outputs": [],
   "source": []
  },
  {
   "cell_type": "code",
   "execution_count": 12,
   "metadata": {
    "collapsed": false
   },
   "outputs": [
    {
     "data": {
      "text/plain": [
       "{'dt': 0.625,\n",
       " 'length': 20,\n",
       " 'regular_sampling': False,\n",
       " 'sigma_bounds': [0.01, 1.0],\n",
       " 'sigma_in': 0.2,\n",
       " 'tau_bounds': [1, 10000],\n",
       " 'tau_in': 100,\n",
       " 'yerr': 0.001}"
      ]
     },
     "execution_count": 12,
     "metadata": {},
     "output_type": "execute_result"
    }
   ],
   "source": [
    "# load the results of my old fitting...\n",
    "test = 'd'\n",
    "simDir = '../data_products/Fig_Celerite_simulated_LC/2017-07-19/'\n",
    "setup = np.load(simDir+'DRW_ZI_setup_'+test+'.npy').item()\n",
    "results = np.load(simDir+'DRW_ZI_results_'+test+'.npy').item()\n",
    "setup"
   ]
  },
  {
   "cell_type": "code",
   "execution_count": 19,
   "metadata": {
    "collapsed": false
   },
   "outputs": [
    {
     "data": {
      "image/png": "[encoded data removed]",
      "text/plain": [
       "<matplotlib.figure.Figure at 0x11ec59470>"
      ]
     },
     "metadata": {},
     "output_type": "display_data"
    }
   ],
   "source": [
    "%matplotlib inline\n",
    "# plot histograms : marginalize along either dimension ... \n",
    "\n",
    "fig ,ax  = plt.subplots(2,1,figsize=(8,10))\n",
    "\n",
    "# two panels  : tau and sigma \n",
    "sigma_in = 0.2\n",
    "tau_in = 100 \n",
    "\n",
    "length = 20 \n",
    "i = 0 \n",
    "x0 = [0.2,0.62]\n",
    "\n",
    "# results of Celerite with ZI light curves \n",
    "use_bounds  = True\n",
    "prior = 'flat'\n",
    "\n",
    "x =  sigma_fit / sigma_in\n",
    "ax[0].hist(x, label='Chelsea' , histtype='step', lw=4, bins=40)\n",
    "\n",
    "x =  results[use_bounds][prior]['sigma_fit'] / sigma_in\n",
    "ax[0].hist(x, label = 'Celerite', histtype='step', lw=4, bins=40)\n",
    "    \n",
    "    \n",
    "y = tau / tau_in\n",
    "ax[1].hist(y,  label='Chelsea', histtype='step', lw=4, bins=40)\n",
    "\n",
    "y = results[use_bounds][prior]['tau_fit'] / tau_in\n",
    "ax[1].hist(y, label='Celerite', histtype='step', lw=4, bins=40)\n",
    "    \n",
    "    \n",
    "ax[0].set_xlabel(r'$\\sigma_{fit}\\,/ \\,\\sigma_{in}$')\n",
    "ax[1].set_xlabel(r'$\\tau_{fit} \\,/\\, \\tau_{in}$')\n",
    "for i in [0,1]:\n",
    "    ax[i].legend(fontsize=18)\n",
    "    ax[i].axvline(1, lw=4, ls='--', c='red', dashes=(5,5))\n",
    "    ax[i].set_ylabel('counts')\n",
    "fig.subplots_adjust(hspace=0.25)\n",
    "#fig.suptitle('N = '+str(len(t))+', length = '+str(length)+  r'$ \\tau_{in}$,'+' '\\\n",
    "#                 +str(len(x))+' fits' + '\\n' \\\n",
    "#                 + 'err='+str(yerr[0])+' [mag], '+b, fontsize=20)\n",
    "plt.savefig(outDir + 'sigma_tau_ratios_marg.png')\n",
    "# in each panel , plot histogram of both "
   ]
  },
  {
   "cell_type": "markdown",
   "metadata": {},
   "source": [
    "###  Run simulation again "
   ]
  },
  {
   "cell_type": "code",
   "execution_count": 20,
   "metadata": {
    "collapsed": false
   },
   "outputs": [
    {
     "name": "stdout",
     "output_type": "stream",
     "text": [
      "{'sigma_in': 0.2, 'tau_in': 100, 'sigma_bounds': [0.01, 1.0], 'tau_bounds': [1, 10000], 'yerr': 0.001, 'length': 20, 'dt': 0.625, 'regular_sampling': False}\n"
     ]
    }
   ],
   "source": [
    "# Take exactly the same light curves , and show that Celerite fitting is \n",
    "# reproducible, largely to avoid embarassment ... \n",
    "\n",
    "print(setup)\n",
    "\n",
    "# Use only \n",
    "# use_bounds  = True\n",
    "# prior = 'flat'"
   ]
  },
  {
   "cell_type": "code",
   "execution_count": 21,
   "metadata": {
    "collapsed": false
   },
   "outputs": [
    {
     "name": "stdout",
     "output_type": "stream",
     "text": [
      "0\n",
      "100\n",
      "200\n",
      "300\n",
      "400\n",
      "500\n",
      "600\n",
      "700\n",
      "800\n",
      "900\n"
     ]
    }
   ],
   "source": [
    "# Fitting  : each light curve is fit with various settings : \n",
    "# [ new_prior,  flat_prior , exp_prior]\n",
    "#t,y,yerr = lc['time'], lc['mag'], lc['err']\n",
    "\n",
    "# we have decided to use the bounds since we found \n",
    "# having them does not affect much the results  \n",
    "# and both Kozlowski et al. , and MacLeod's codes\n",
    "# include some boundaries to avoid nonsensical results ... \n",
    "sigma_bounds = [0.001, 1.0]\n",
    "tau_bounds = [1,10000]\n",
    "    \n",
    "       \n",
    "# fitting procedure : \n",
    "# initialize the Gaussian Process  RealTerm kernel ... \n",
    "# it can be done once for all fittings ... \n",
    "kernel = terms.RealTerm(log_a = 2 * np.log(sigma_in) , \n",
    "                        log_c = np.log(1/tau_in))\n",
    "\n",
    "DirIn = '../raw_data/DRWtestCeleriteZI/'\n",
    "files = os.listdir(DirIn)\n",
    "\n",
    "# initialize dictionaries to store the results  \n",
    "results = {}\n",
    "for prior in  ['flat', 'a', 'b']:\n",
    "    results[prior] = {'sigma_fit':np.zeros(len(files), dtype=float),\n",
    "                     'tau_fit':np.zeros(len(files), dtype=float)}\n",
    "\n",
    "for i in range(len(files)) :\n",
    "    # print progress... \n",
    "    if (i % 100)== 0 : \n",
    "        print(i)\n",
    "        \n",
    "    # read in Zeljko's light curve \n",
    "    lc = Table.read(DirIn +files[i], format='ascii', names=['time', 'mag', 'err'] )    \n",
    "    t,y,yerr = lc['time'], lc['mag'], lc['err']\n",
    "    \n",
    "    # call the model  with a chosen kernel instance \n",
    "    gp = celerite.GP(kernel, mean=np.mean(y))\n",
    "    gp.compute(t, yerr)\n",
    "    \n",
    "    initial_params = gp.get_parameter_vector()\n",
    "\n",
    "    for use_bounds, prior in product([True], ['flat', 'a', 'b']):    \n",
    "        if use_bounds : # use some custom boundaries \n",
    "            logc_bounds= (np.log(1/max(tau_bounds)), np.log(1/min(tau_bounds)) )\n",
    "            loga_bounds = (2*np.log(min(sigma_bounds)), 2*np.log(max(sigma_bounds)))\n",
    "            bounds = [loga_bounds, logc_bounds]\n",
    "        else : # use the built-in boundaries (-inf : +inf )\n",
    "            bounds = gp.get_parameter_bounds()\n",
    "\n",
    "        if prior is 'flat' : \n",
    "            def neg_log_like(params, y, gp):\n",
    "                gp.set_parameter_vector(params)\n",
    "                return -gp.log_likelihood(y)\n",
    "\n",
    "        if prior is 'a' :\n",
    "            def neg_log_like(params, y, gp):\n",
    "                gp.set_parameter_vector(params)\n",
    "                log_a = params[0]\n",
    "                log_c = params[1]\n",
    "                #log_sigma = log_a / 2.0 \n",
    "                #log_tau = - log_c\n",
    "                return -gp.log_likelihood(y)  -0.5* (log_c - log_a - np.log(2))\n",
    "\n",
    "        if prior is 'b' : \n",
    "            def neg_log_like(params,y,gp):\n",
    "                gp.set_parameter_vector(params)\n",
    "                log_a = params[0]\n",
    "                log_c = params[1]\n",
    "                log_sigma = log_a / 2.0 \n",
    "                log_tau = - log_c\n",
    "                sigma = np.exp(log_sigma)\n",
    "                tau  = np.exp(log_tau)\n",
    "                return -gp.log_likelihood(y) - np.log(1.0/sigma + 1.0/tau)\n",
    "\n",
    "        # do the scipy optimize to find the maximum likelihood estimator \n",
    "        # for hyperparameters.... \n",
    "        #print('Using %s prior'%prior)\n",
    "        r = minimize(neg_log_like, initial_params, \n",
    "                     method=\"L-BFGS-B\", bounds=bounds, args=(y, gp))\n",
    "        gp.set_parameter_vector(r.x)\n",
    "\n",
    "        # retrieve the best-fit parameters \n",
    "        res = gp.get_parameter_dict()\n",
    "        sigma_fit = np.exp(res['kernel:log_a']/2)\n",
    "        tau_fit = 1.0 / np.exp(res['kernel:log_c'])\n",
    "        results[prior]['sigma_fit'][i] = sigma_fit\n",
    "        results[prior]['tau_fit'][i] = tau_fit\n",
    "\n",
    "# Save the results ...\n",
    "fname = 'ZI_fits_results_10-30-17.npy'\n",
    "print('Saving to %s'%(outDir+fname))\n",
    "np.save(outDir+fname, results)        "
   ]
  },
  {
   "cell_type": "code",
   "execution_count": 79,
   "metadata": {
    "collapsed": false
   },
   "outputs": [],
   "source": [
    "#files[0]"
   ]
  },
  {
   "cell_type": "markdown",
   "metadata": {},
   "source": [
    "### Illustration : simulate observations with missing data"
   ]
  },
  {
   "cell_type": "code",
   "execution_count": 107,
   "metadata": {
    "collapsed": false
   },
   "outputs": [
    {
     "data": {
      "text/plain": [
       "<matplotlib.text.Text at 0x11e8ba390>"
      ]
     },
     "execution_count": 107,
     "metadata": {},
     "output_type": "execute_result"
    },
    {
     "data": {
      "image/png": "[encoded data removed]",
      "text/plain": [
       "<matplotlib.figure.Figure at 0x11f701ba8>"
      ]
     },
     "metadata": {},
     "output_type": "display_data"
    }
   ],
   "source": [
    "sigma_in = 0.2\n",
    "tau_in = 100 \n",
    "kernel = terms.RealTerm(log_a = 2 * np.log(sigma_in) , \n",
    "                        log_c = np.log(1/tau_in))\n",
    "i=0\n",
    "DirIn = '../raw_data/DRWtestCeleriteZI/'\n",
    "files = os.listdir(DirIn)\n",
    "lc = Table.read(DirIn +files[i], format='ascii', names=['time', 'mag', 'err'] )    \n",
    "\n",
    "start, stop = 200, 250  \n",
    "# the full observed array has 400 elements. .... \n",
    "# we remove some to simulate 'missing data window' ...\n",
    "\n",
    "t,y,yerr = list(lc['time'][:start])+list(lc['time'][stop:]), \\\n",
    "    list(lc['mag'][:start])+list(lc['mag'][stop:]),\\\n",
    "    list(lc['err'][:start])+list(lc['err'][stop:])\n",
    "\n",
    "    # call the model  with a chosen kernel instance \n",
    "gp = celerite.GP(kernel, mean=np.mean(y))\n",
    "gp.compute(t, yerr)\n",
    "\n",
    "initial_params = gp.get_parameter_vector()\n",
    "\n",
    "sigma_bounds = [0.001, 1.0]\n",
    "tau_bounds = [1,10000]\n",
    "\n",
    "\n",
    "use_bounds = True\n",
    "prior = 'new'\n",
    "#for use_bounds, prior in product([True], ['flat', 'exp', 'new']):    \n",
    "if use_bounds : # use some custom boundaries \n",
    "    logc_bounds= (np.log(1/max(tau_bounds)), np.log(1/min(tau_bounds)) )\n",
    "    loga_bounds = (2*np.log(min(sigma_bounds)), 2*np.log(max(sigma_bounds)))\n",
    "    bounds = [loga_bounds, logc_bounds]\n",
    "else : # use the built-in boundaries (-inf : +inf )\n",
    "    bounds = gp.get_parameter_bounds()\n",
    "\n",
    "if prior is 'flat' : \n",
    "    def neg_log_like(params, y, gp):\n",
    "        gp.set_parameter_vector(params)\n",
    "        return -gp.log_likelihood(y)\n",
    "\n",
    "if prior is 'exp' :\n",
    "    def neg_log_like(params, y, gp):\n",
    "        gp.set_parameter_vector(params)\n",
    "        log_a = params[0]\n",
    "        log_c = params[1]\n",
    "        #log_sigma = log_a / 2.0 \n",
    "        #log_tau = - log_c\n",
    "        return -gp.log_likelihood(y)  -0.5* (log_c - log_a - np.log(2))\n",
    "\n",
    "if prior is 'new' : \n",
    "    def neg_log_like(params,y,gp):\n",
    "        gp.set_parameter_vector(params)\n",
    "        log_a = params[0]\n",
    "        log_c = params[1]\n",
    "        log_sigma = log_a / 2.0 \n",
    "        log_tau = - log_c\n",
    "        sigma = np.exp(log_sigma)\n",
    "        tau  = np.exp(log_tau)\n",
    "        return -gp.log_likelihood(y) - np.log(1.0/sigma + 1.0/tau)\n",
    "\n",
    "# do the scipy optimize to find the maximum likelihood estimator \n",
    "# for hyperparameters.... \n",
    "#print('Using %s prior'%prior)\n",
    "r = minimize(neg_log_like, initial_params, \n",
    "             method=\"L-BFGS-B\", bounds=bounds, args=(y, gp))\n",
    "gp.set_parameter_vector(r.x)\n",
    "\n",
    "# retrieve the best-fit parameters \n",
    "res = gp.get_parameter_dict()\n",
    "sigma_fit = np.exp(res['kernel:log_a']/2)\n",
    "tau_fit = 1.0 / np.exp(res['kernel:log_c'])\n",
    "\n",
    "# predict the (Gaussian) conditional (on the observed data) \n",
    "# distribution for new observations, to get the \n",
    "# estimate for standard deviation \n",
    "\n",
    "# where should we evaluate prediction ? \n",
    "# a) best at the same points at which we are providing hte \n",
    "# simulated dataset ... \n",
    "#  x = t\n",
    "\n",
    "# b) at much denser sampling, so that we'll see that \n",
    "# the prediction becomes less certain when there is no\n",
    "# data ... (note region around 1000...)\n",
    "x = np.linspace(0, 2000, 5000) # t\n",
    "pred_mean, pred_var = gp.predict(y, x, return_var=True)\n",
    "pred_std = np.sqrt(pred_var)\n",
    "\n",
    "# plot the prediction vs the observations.... \n",
    "color = \"#ff7f0e\"\n",
    "#plt.plot(true_t, true_y, \"k\", lw=1.5, alpha=0.3)\n",
    "plt.errorbar(t, y, yerr=yerr, fmt=\".k\", capsize=0)\n",
    "plt.plot(x, pred_mean, color=color)\n",
    "plt.fill_between(x, pred_mean+pred_std, pred_mean-pred_std, color=color, alpha=0.3,\n",
    "                 edgecolor=\"none\")\n",
    "plt.xlabel(\"x\")\n",
    "plt.ylabel(\"y\")\n",
    "\n"
   ]
  },
  {
   "cell_type": "markdown",
   "metadata": {},
   "source": [
    "### Compare Celerite to Chelsea "
   ]
  },
  {
   "cell_type": "code",
   "execution_count": 73,
   "metadata": {
    "collapsed": false
   },
   "outputs": [
    {
     "data": {
      "image/png": "[encoded data removed]",
      "text/plain": [
       "<matplotlib.figure.Figure at 0x1118ea278>"
      ]
     },
     "metadata": {},
     "output_type": "display_data"
    }
   ],
   "source": [
    "import matplotlib.lines as mlines\n",
    "%matplotlib inline\n",
    "# plot histograms : marginalize along either dimension ... \n",
    "\n",
    "fig ,ax  = plt.subplots(2,1,figsize=(8,10))\n",
    "\n",
    "# two panels  : tau and sigma \n",
    "sigma_in = 0.2\n",
    "tau_in = 100 \n",
    "\n",
    "length = 20 \n",
    "i = 0 \n",
    "x0 = [0.2,0.62]\n",
    "\n",
    "\n",
    "# Grab Chelsea' results ...\n",
    "fits = Table.read(outDir+'fits.dat', format='ascii')\n",
    "tau_fit = np.power(10,fits['col3'].data)\n",
    "sigma_hat = np.power(10, fits['col4'].data)\n",
    "sigma_fit = sigma_hat / np.sqrt(2 / (tau_fit/365.0))  # to convert to mag / sqrt(years)...\n",
    "\n",
    "# Read the results from Celerite ...\n",
    "simDir = '../data_products/Fig_Celerite_ZI_LC_fits/2017-10-27/'\n",
    "results = np.load(simDir+'ZI_fits_results_10-30-17.npy').item()\n",
    "\n",
    "# need to store lines for axis legends in an object \n",
    "ax_legend_handles = []\n",
    "\n",
    "color_dict = {'Chelsea':'blue',  'flat':'orange',\n",
    "             'a':'purple','b':'green' }\n",
    "\n",
    "# results of Celerite with ZI light curves \n",
    "use_bounds  = True\n",
    "for prior in ['flat','a','b'] : \n",
    "    x =  results[prior]['sigma_fit'] / sigma_in\n",
    "    ax[0].hist(x, histtype='step', lw=2, bins=40, color=color_dict[prior])#\n",
    "    line = mlines.Line2D([], [], color=color_dict[prior], lw=2, label=prior)\n",
    "    ax_legend_handles.append(line)\n",
    "    \n",
    "    y = results[prior]['tau_fit'] / tau_in\n",
    "    ax[1].hist(y,  histtype='step', lw=2, bins=40, color=color_dict[prior])\n",
    "# NOTE :  need to make a line object to \n",
    "# avoid getting a legend with a box ... \n",
    "# https://matplotlib.org/users/legend_guide.html#plotting-guide-legend \n",
    "       \n",
    "    \n",
    "# results of Chelsea \n",
    "x =  sigma_fit / sigma_in\n",
    "ax[0].hist(x,  histtype='step', lw=3, bins=40,color=color_dict['Chelsea'])    \n",
    "line = mlines.Line2D([], [], color=color_dict['Chelsea'], lw=3, label='Chelsea')\n",
    "ax_legend_handles.append(line)\n",
    "    \n",
    "y = tau_fit / tau_in\n",
    "ax[1].hist(y, histtype='step', lw=3, bins=40,color=color_dict['Chelsea'])\n",
    "\n",
    "ax[0].set_xlabel(r'$\\sigma_{fit}\\,/ \\,\\sigma_{in}$')\n",
    "ax[1].set_xlabel(r'$\\tau_{fit} \\,/\\, \\tau_{in}$')\n",
    "\n",
    "for i in [0,1]:\n",
    "    ax[i].legend(loc='upper left', handles = ax_legend_handles, frameon=False,\n",
    "                bbox_to_anchor=(0.71, 0.9), fontsize=15)\n",
    "    ax[i].axvline(1, lw=4, ls='--', c='red', dashes=(5,5))\n",
    "    ax[i].set_ylabel('counts')\n",
    "    \n",
    "    \n",
    "fig.subplots_adjust(hspace=0.25)\n",
    "#fig.suptitle('N = '+str(len(t))+', length = '+str(length)+  r'$ \\tau_{in}$,'+' '\\\n",
    "#                 +str(len(x))+' fits' + '\\n' \\\n",
    "#                 + 'err='+str(yerr[0])+' [mag], '+b, fontsize=20)\n",
    "plt.savefig(outDir + 'sigma_tau_ratios_chelsea_celerite.png')\n",
    "# in each panel , plot histogram of both "
   ]
  },
  {
   "cell_type": "markdown",
   "metadata": {},
   "source": []
  },
  {
   "cell_type": "code",
   "execution_count": 107,
   "metadata": {
    "collapsed": false
   },
   "outputs": [],
   "source": [
    "# Make an AstroPy table from Celerite fit results \n",
    "celerite_fits = Table()\n",
    "celerite_fits['name'] = files\n",
    "for prior in ['flat','a','b'] : \n",
    "    for key in results[prior].keys():\n",
    "        colname = prior + '-'+key\n",
    "        celerite_fits[colname] = results[prior][key]\n",
    "        \n",
    "# Make an AstroPy table from Chelsea fit results        \n",
    "fits = Table.read(outDir+'fits.dat', format='ascii')\n",
    "chelsea_fits = Table()\n",
    "chelsea_fits['name'] = fits['col1']\n",
    "chelsea_fits['Chelsea-tau'] = np.power(10,fits['col3'].data)\n",
    "sigma_hat = np.power(10, fits['col4'].data)\n",
    "chelsea_fits['Chelsea_sigma']  = sigma_hat / np.sqrt(2 / (tau_fit/365.0))\n",
    "#  to convert to mag / sqrt(years)...\n",
    "\n",
    "# merge on name \n",
    "from astropy.table import join\n",
    "combined = join(celerite_fits, chelsea_fits)\n",
    "\n",
    "# save the result ...\n",
    "combined.write('celerite_chelsea_fit_results.txt', format='ascii')"
   ]
  }
 ],
 "metadata": {
  "kernelspec": {
   "display_name": "Python 3",
   "language": "python",
   "name": "python3"
  },
  "language_info": {
   "codemirror_mode": {
    "name": "ipython",
    "version": 3
   },
   "file_extension": ".py",
   "mimetype": "text/x-python",
   "name": "python",
   "nbconvert_exporter": "python",
   "pygments_lexer": "ipython3",
   "version": "3.6.0"
  }
 },
 "nbformat": 4,
 "nbformat_minor": 2
}
