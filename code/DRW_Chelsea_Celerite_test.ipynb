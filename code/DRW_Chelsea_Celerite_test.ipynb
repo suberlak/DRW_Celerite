{
 "cells": [
  {
   "cell_type": "markdown",
   "metadata": {},
   "source": [
    "### Executive Summary <a id='toc'></a>"
   ]
  },
  {
   "cell_type": "markdown",
   "metadata": {},
   "source": [
    "A notebook to simulate 1000 DRW light curves,  with 400 points each, spanning length of 2000 days,  with separation of 5 days , and input timescale of 100  days, so that the light curve is well within the unbiased regime ( much longer  than  10 timescales ) . \n",
    "\n",
    "Since the light curves are stored,  it is possible to use the previously simulated light curves.  \n",
    "\n",
    "We present the comparison of Chelsea MacLeod's results  against those of Celerite, exploring a range of possible priors.  \n",
    "\n"
   ]
  },
  {
   "cell_type": "markdown",
   "metadata": {},
   "source": [
    "* [Sec 1 : Aside : simulating light curves](#sim_lc)\n",
    "* [Sec 2 : Celerite fits](#celerite_fit)\n",
    "    * [Sec 2.1 : Fitting loop](#fitting_loop)\n",
    "    * [Sec 2.2 : Illustrating the gappy data fits](#illustrate)\n",
    "    * [Sec 2.3: Error on the MLE](#error_mle)\n",
    "* [Sec 3 : Compare Celerite and Chelsea](#compare)\n",
    "    * [Sec 3.1 Plotting fit results](#plotting)\n",
    "    * [Sec 3.2 Save combined fit results](#save)\n"
   ]
  },
  {
   "cell_type": "markdown",
   "metadata": {},
   "source": [
    "# Imports "
   ]
  },
  {
   "cell_type": "markdown",
   "metadata": {},
   "source": [
    "[Go to top](#toc)"
   ]
  },
  {
   "cell_type": "code",
   "execution_count": 16,
   "metadata": {
    "collapsed": true
   },
   "outputs": [],
   "source": [
    "import numpy as np \n",
    "import os\n",
    "import datetime\n",
    "from itertools import product\n",
    "from scipy.optimize import minimize\n",
    "\n",
    "import matplotlib.pyplot as plt\n",
    "from matplotlib import rcParams      \n",
    "rcParams['ytick.labelsize'] = 15\n",
    "rcParams['xtick.labelsize'] = 15\n",
    "rcParams['axes.labelsize'] = 20\n",
    "rcParams['axes.linewidth'] = 2\n",
    "rcParams['font.size'] = 15\n",
    "rcParams['axes.titlesize'] = 18\n",
    "\n",
    "import celerite\n",
    "import numpy as np\n",
    "import matplotlib.pyplot as plt\n",
    "from celerite import terms\n",
    "from astropy.table import Table\n",
    "from astropy.table import vstack\n",
    "from astropy.table import Column"
   ]
  },
  {
   "cell_type": "markdown",
   "metadata": {},
   "source": [
    "Input properties for each of the 1000 light curves  : \n",
    "\n",
    "  $\\tau_{in} = 100 $ days\n",
    "   \n",
    "  $\\sigma_{in} = 0.2  $ mag\n",
    "\n",
    "  $SF_{\\infty} = 0.2*\\sqrt{2} = 0.2828$ mag\n",
    "\n",
    "length = $l= 20 \\tau$\n",
    "\n",
    "dt = 5 days \n",
    "\n",
    "random sampling  from a uniform distribution \n",
    "\n",
    "yerr = 0.001  mag \n",
    "\n",
    "400 points "
   ]
  },
  {
   "cell_type": "markdown",
   "metadata": {},
   "source": [
    "# Aside : code to simulate light curves <a id='sim_lc'></a> "
   ]
  },
  {
   "cell_type": "markdown",
   "metadata": {},
   "source": [
    "[go to top](#toc)"
   ]
  },
  {
   "cell_type": "markdown",
   "metadata": {},
   "source": [
    "These light curves were simulated with the following code :"
   ]
  },
  {
   "cell_type": "code",
   "execution_count": 5,
   "metadata": {
    "collapsed": true
   },
   "outputs": [],
   "source": [
    "def sim_DRW_lightcurve(t,SFinf,tau,mean_mag):\n",
    "    '''Simulate a DRW lightcurve for a given time series t, with parameters\n",
    "       (SFinf, tau), and mean magnitude.\n",
    "       Uses equations A4 and A5 in Kelly 2009 (see also MacLeod+10 sec 2.2).'''\n",
    "    mu = mean_mag  # the input parameter : mean mag: make an alias \n",
    "    mag = np.zeros(len(t),dtype=np.float32) # initialize an array of empty values\n",
    "    mag[0] = mean_mag # start from the mean magnitude \n",
    "    dt = np.diff(t) # an array of differences  t[i+1]-t[i]\n",
    "    for i in range(1,len(t)):\n",
    "        # calculate the mean \n",
    "        loc = np.exp(-dt[i-1]/tau)*mag[i-1] + mu*(1-np.exp(-dt[i-1]/tau))\n",
    "        # calculate the variance \n",
    "        var = 0.5 * SFinf**2 * (1-np.exp(-2*dt[i-1]/tau))\n",
    "        # draw the magnitude value from a Gaussian distribution\n",
    "        # with a given mean and standard deviation ( = sqrt(variance))\n",
    "        mag[i] = np.random.normal(loc=loc,scale=np.sqrt(var))\n",
    "    return mag\n",
    "\n",
    "\n",
    "def sampling(tau_in = 100, length=10, t_min=1, N_pts = None,  dt = 10 , \n",
    "                        regular=False, verbose=False):\n",
    "    ''' A convenience function to return user-defined sampling \n",
    "    \n",
    "    Input: \n",
    "    -------\n",
    "    tau_in : input timescale (default: 100 days )\n",
    "    length : length in terms of multiples of timescale (default: 10) \n",
    "    t_min : starting point of lightcurve (default : 1 )\n",
    "    N_pts: if provided , then we choose the dt based on the number \n",
    "         of points desired. Otherwise the number of points is \n",
    "         calculated based on the desired spacing. \n",
    "    dt : interval between samplings, if regular = True, then \n",
    "        this is the exact interval,  otherwise we divide the \n",
    "        light curve length by dt to determine the number \n",
    "        of points \n",
    "    regular : boolean (True / False). Use regular sampling with dt, \n",
    "        or random sampling with Npts = floor(total_timespan / dt) ? \n",
    "        \n",
    "    Returns:\n",
    "    ---------\n",
    "    t : sampling times \n",
    "    '''\n",
    "    t_max = t_min + length*tau_in\n",
    "    if regular : \n",
    "        # evenly spaced sampling within the chosen interval \n",
    "        if verbose: \n",
    "            print('Using regular sampling')\n",
    "        if N_pts is None : \n",
    "            t = np.arange(t_min, t_max, dt)\n",
    "        else : \n",
    "            t = np.linspace(t_min, t_max, N_pts)\n",
    "    else :\n",
    "        # random sampling with the chosen number of points ... \n",
    "        # The output is sorted\n",
    "        if verbose: \n",
    "            print('Using random sampling')\n",
    "        if N_pts is None : \n",
    "            N_pts= int(np.floor((t_max - t_min) / dt))\n",
    "        t = np.sort(np.random.uniform(t_min, t_max, N_pts)) \n",
    "        \n",
    "    return t\n",
    "\n",
    "# general setup \n",
    "regular_sampling = False\n",
    "yerr =  0.001 # mags \n",
    "tau_in = 100 # days \n",
    "length = 20 \n",
    "sigma_in = 0.2 # mags \n",
    "SF_inf = sigma_in * np.sqrt(2)\n",
    "dt = 5.0  # length * tau_in / dt = 400 = N_points \n",
    "N_iterations =  1000\n",
    "\n",
    "# simulating the cadence and DRW sampled at \n",
    "# observed times ... \n",
    "t = sampling(tau_in = tau_in, length=length, regular=regular_sampling, dt=dt)\n",
    "y = sim_DRW_lightcurve(t, SF_inf, tau_in , 0)\n"
   ]
  },
  {
   "cell_type": "markdown",
   "metadata": {},
   "source": [
    "# Celerite fitting : impact of priors <a id='celerite_fit'></a>"
   ]
  },
  {
   "cell_type": "markdown",
   "metadata": {},
   "source": [
    "[go to top](#toc)"
   ]
  },
  {
   "cell_type": "code",
   "execution_count": 17,
   "metadata": {
    "collapsed": false
   },
   "outputs": [
    {
     "name": "stdout",
     "output_type": "stream",
     "text": [
      "We will save this figure in  /Users/chris/GradResearch/DRW_Celerite/data_products/Fig_Celerite_ZI_LC_fits/2017-11-08/\n"
     ]
    }
   ],
   "source": [
    "# Make a dir for the results \n",
    "outDir = os.path.join(os.getcwd()[:-4],'data_products/'+'Fig_Celerite_ZI_LC_fits',\n",
    "                      datetime.datetime.now().strftime('%Y-%m-%d')+ '/')\n",
    "if not os.path.exists(outDir): os.system('mkdir %s' % outDir)\n",
    "print('We will save this figure in  %s'%outDir)\n",
    "\n",
    "\n"
   ]
  },
  {
   "cell_type": "markdown",
   "metadata": {},
   "source": [
    "### Fitting loop : testing various priors <a id='fitting_loop'></a>"
   ]
  },
  {
   "cell_type": "markdown",
   "metadata": {},
   "source": [
    "[go to top](#toc)"
   ]
  },
  {
   "cell_type": "code",
   "execution_count": 18,
   "metadata": {
    "collapsed": false,
    "scrolled": false
   },
   "outputs": [
    {
     "name": "stdout",
     "output_type": "stream",
     "text": [
      "0\n",
      "100\n"
     ]
    },
    {
     "name": "stderr",
     "output_type": "stream",
     "text": [
      "/Users/chris/anaconda3/envs/py36/lib/python3.6/site-packages/ipykernel/__main__.py:123: RuntimeWarning: invalid value encountered in sqrt\n",
      "/Users/chris/anaconda3/envs/py36/lib/python3.6/site-packages/ipykernel/__main__.py:123: RuntimeWarning: invalid value encountered in sqrt\n"
     ]
    },
    {
     "name": "stdout",
     "output_type": "stream",
     "text": [
      "200\n",
      "300\n"
     ]
    },
    {
     "name": "stderr",
     "output_type": "stream",
     "text": [
      "/Users/chris/anaconda3/envs/py36/lib/python3.6/site-packages/ipykernel/__main__.py:123: RuntimeWarning: invalid value encountered in sqrt\n",
      "/Users/chris/anaconda3/envs/py36/lib/python3.6/site-packages/ipykernel/__main__.py:123: RuntimeWarning: invalid value encountered in sqrt\n"
     ]
    },
    {
     "name": "stdout",
     "output_type": "stream",
     "text": [
      "400\n",
      "500\n",
      "600\n",
      "700\n"
     ]
    },
    {
     "name": "stderr",
     "output_type": "stream",
     "text": [
      "/Users/chris/anaconda3/envs/py36/lib/python3.6/site-packages/ipykernel/__main__.py:123: RuntimeWarning: invalid value encountered in sqrt\n"
     ]
    },
    {
     "name": "stdout",
     "output_type": "stream",
     "text": [
      "800\n",
      "900\n"
     ]
    },
    {
     "name": "stderr",
     "output_type": "stream",
     "text": [
      "/Users/chris/anaconda3/envs/py36/lib/python3.6/site-packages/ipykernel/__main__.py:123: RuntimeWarning: invalid value encountered in sqrt\n"
     ]
    },
    {
     "name": "stdout",
     "output_type": "stream",
     "text": [
      "Saving to /Users/chris/GradResearch/DRW_Celerite/data_products/Fig_Celerite_ZI_LC_fits/2017-11-08/ZI_fits_results_11-07-17.npy\n"
     ]
    }
   ],
   "source": [
    "# Fitting  : each light curve is fit with various settings : \n",
    "\n",
    "# we have decided to use the bounds since we found \n",
    "# having them does not affect much the results  \n",
    "# and both Kozlowski et al. , and MacLeod's codes\n",
    "# include some boundaries to avoid nonsensical results ... \n",
    "sigma_bounds = [0.001, 1.0]\n",
    "tau_bounds = [1,10000]\n",
    "         \n",
    "# fitting procedure : \n",
    "# initialize the Gaussian Process  RealTerm kernel ... \n",
    "# it can be done once for all fittings ... \n",
    "kernel = terms.RealTerm(log_a = 2 * np.log(sigma_in) , \n",
    "                        log_c = np.log(1/tau_in))\n",
    "\n",
    "DirIn = '../raw_data/DRWtestCeleriteZI/'\n",
    "files = os.listdir(DirIn)\n",
    "\n",
    "# initialize dictionaries to store the results  \n",
    "results = {}\n",
    "# define which priors we would like to try ... \n",
    "priors = ['flat', 'p1', 'p2', 'Jeff1', 'Jeff2']\n",
    "\n",
    "for prior in  priors:\n",
    "    results[prior] = {'sigma_fit':np.zeros(len(files), dtype=float),\n",
    "                     'tau_fit':np.zeros(len(files), dtype=float),\n",
    "                     's_sigma':np.zeros(len(files), dtype=float),\n",
    "                     's_tau':np.zeros(len(files), dtype=float),\n",
    "                     's_loga':np.zeros(len(files), dtype=float),\n",
    "                     's_logc':np.zeros(len(files), dtype=float)}\n",
    "    \n",
    "for i in range(len(files)) :\n",
    "    # print progress... \n",
    "    if (i % 100)== 0 : \n",
    "        print(i)\n",
    "        \n",
    "    # read in saved light curvesw\n",
    "    lc = Table.read(DirIn +files[i], format='ascii', names=['time', 'mag', 'err'] )    \n",
    "    t,y,yerr = lc['time'], lc['mag'], lc['err']\n",
    "    \n",
    "    # call the model  with a chosen kernel instance \n",
    "    gp = celerite.GP(kernel, mean=np.mean(y))\n",
    "    gp.compute(t, yerr)\n",
    "    \n",
    "    initial_params = gp.get_parameter_vector()\n",
    "\n",
    "    for use_bounds, prior in product([True], priors):    \n",
    "        if use_bounds : # use some custom boundaries \n",
    "            logc_bounds= (np.log(1/max(tau_bounds)), np.log(1/min(tau_bounds)) )\n",
    "            loga_bounds = (2*np.log(min(sigma_bounds)), 2*np.log(max(sigma_bounds)))\n",
    "            bounds = [loga_bounds, logc_bounds]\n",
    "        else : # use the built-in boundaries (-inf : +inf )\n",
    "            bounds = gp.get_parameter_bounds()\n",
    "\n",
    "        if prior is 'flat' : \n",
    "            def neg_log_like(params, y, gp):\n",
    "                gp.set_parameter_vector(params)\n",
    "                return -gp.log_likelihood(y)\n",
    "\n",
    "        if prior is 'p1' : # sigma*tau \n",
    "            def neg_log_like(params,y,gp):\n",
    "                gp.set_parameter_vector(params)\n",
    "                log_a = params[0]\n",
    "                log_c = params[1]\n",
    "                return -gp.log_likelihood(y) - (log_a / 2.0) + log_c\n",
    "            \n",
    "        if prior is 'p2' : # sigma_hat * tau \n",
    "             def neg_log_like(params, y, gp):\n",
    "                gp.set_parameter_vector(params)\n",
    "                log_a = params[0]\n",
    "                log_c = params[1]\n",
    "                #log_sigma = log_a / 2.0 \n",
    "                #log_tau = - log_c\n",
    "                return -gp.log_likelihood(y)  +0.5* (-np.log(2) + log_c - log_a  )\n",
    "            \n",
    "        if prior is 'Jeff1' : # (1/sigma) * (1/tau) \n",
    "            def neg_log_like(params,y,gp):\n",
    "                gp.set_parameter_vector(params)\n",
    "                log_a = params[0]\n",
    "                log_c = params[1]\n",
    "                return -gp.log_likelihood(y) + (log_a / 2.0) - log_c\n",
    "            \n",
    "            \n",
    "        if prior is 'Jeff2' : # (1/sigma_hat) * (1/tau) \n",
    "            def neg_log_like(params, y, gp):\n",
    "                gp.set_parameter_vector(params)\n",
    "                log_a = params[0]\n",
    "                log_c = params[1]\n",
    "                #log_sigma = log_a / 2.0 \n",
    "                #log_tau = - log_c\n",
    "                return -gp.log_likelihood(y)  +0.5* (np.log(2) - log_c + log_a  )\n",
    "\n",
    "        # this one is plain wrong \n",
    "        if prior is 'b' : \n",
    "            def neg_log_like(params,y,gp):\n",
    "                gp.set_parameter_vector(params)\n",
    "                log_a = params[0]\n",
    "                log_c = params[1]\n",
    "                log_sigma = log_a / 2.0 \n",
    "                log_tau = - log_c\n",
    "                sigma = np.exp(log_sigma)\n",
    "                tau  = np.exp(log_tau)\n",
    "                return -gp.log_likelihood(y) - np.log(1.0/sigma + 1.0/tau)\n",
    "\n",
    "        # do the scipy optimize to find the maximum likelihood estimator \n",
    "        # for hyperparameters.... \n",
    "        #print('Using %s prior'%prior)\n",
    "        r = minimize(neg_log_like, initial_params, \n",
    "                     method=\"L-BFGS-B\", bounds=bounds, args=(y, gp))\n",
    "        gp.set_parameter_vector(r.x)\n",
    "\n",
    "        import numdifftools as nd\n",
    "\n",
    "        def Wrap_neg_log_like(theta) : \n",
    "            return neg_log_like(theta, y, gp)\n",
    "\n",
    "        Hfun = nd.Hessian(Wrap_neg_log_like, full_output=True)\n",
    "        hessian_ndt, info = Hfun(r['x'])\n",
    "\n",
    "        # standard deviation is the square of variance\n",
    "        # note  : this error is the error on the \n",
    "        # MLE of the log_c , log_a \n",
    "        se = np.sqrt(np.diag(np.linalg.inv(hessian_ndt)))\n",
    "\n",
    "        # error from hessian on log_a, log_c\n",
    "        s_log_a = se[0]\n",
    "        s_log_c = se[1]\n",
    "\n",
    "        # retrieve the best-fit parameters \n",
    "        res = gp.get_parameter_dict()\n",
    "        sigma_fit = np.exp(res['kernel:log_a']/2)\n",
    "        tau_fit = 1.0 / np.exp(res['kernel:log_c'])\n",
    "        \n",
    "        # these are natural logs\n",
    "        log_a = res['kernel:log_a']\n",
    "        log_c = res['kernel:log_c']\n",
    "\n",
    "        # convert to error on a, c  \n",
    "        s_a = s_log_a * np.exp(log_a)\n",
    "        s_c = s_log_c * np.exp(log_c)\n",
    "\n",
    "        # now a = sigma^2 ,  c = tau^{-1}\n",
    "        # convert to error on sigma, tau \n",
    "        s_sigma = s_a / (2 * sigma_fit)\n",
    "        s_tau = s_c * tau_fit*tau_fit\n",
    "        \n",
    "        # store the fit results and errors \n",
    "        results[prior]['sigma_fit'][i] = sigma_fit\n",
    "        results[prior]['tau_fit'][i] = tau_fit\n",
    "        results[prior]['s_sigma'][i] = s_sigma\n",
    "        results[prior]['s_tau'][i] = s_tau\n",
    "        results[prior]['s_loga'][i] = s_log_a\n",
    "        results[prior]['s_logc'][i] = s_log_c\n",
    "        \n",
    "# Save the results ...\n",
    "fname = 'ZI_fits_results_11-07-17.npy'\n",
    "print('Saving to %s'%(outDir+fname))\n",
    "np.save(outDir+fname, results)        "
   ]
  },
  {
   "cell_type": "code",
   "execution_count": 84,
   "metadata": {
    "collapsed": false
   },
   "outputs": [
    {
     "data": {
      "text/plain": [
       "<function __main__.neg_log_like>"
      ]
     },
     "execution_count": 84,
     "metadata": {},
     "output_type": "execute_result"
    }
   ],
   "source": [
    "neg_log_like"
   ]
  },
  {
   "cell_type": "markdown",
   "metadata": {
    "collapsed": false
   },
   "source": [
    "[go to plotting](#plotting)"
   ]
  },
  {
   "cell_type": "markdown",
   "metadata": {},
   "source": [
    "## Illustration : simulate observations with missing data <a id='illustrate'></a>"
   ]
  },
  {
   "cell_type": "markdown",
   "metadata": {},
   "source": [
    "[go to top](#toc)"
   ]
  },
  {
   "cell_type": "code",
   "execution_count": 115,
   "metadata": {
    "collapsed": false
   },
   "outputs": [
    {
     "data": {
      "image/png": "[encoded data removed]",
      "text/plain": [
       "<matplotlib.figure.Figure at 0x11f3d16a0>"
      ]
     },
     "metadata": {},
     "output_type": "display_data"
    }
   ],
   "source": [
    "sigma_in = 0.2\n",
    "tau_in = 100 \n",
    "kernel = terms.RealTerm(log_a = 2 * np.log(sigma_in) , \n",
    "                        log_c = np.log(1/tau_in))\n",
    "i=0\n",
    "DirIn = '../raw_data/DRWtestCeleriteZI/'\n",
    "files = os.listdir(DirIn)\n",
    "lc = Table.read(DirIn +files[i], format='ascii', names=['time', 'mag', 'err'] )    \n",
    "\n",
    "start, stop = 200, 250  \n",
    "# the full observed array has 400 elements. .... \n",
    "# we remove some to simulate 'missing data window' ...\n",
    "\n",
    "t,y,yerr = list(lc['time'][:start])+list(lc['time'][stop:]), \\\n",
    "    list(lc['mag'][:start])+list(lc['mag'][stop:]),\\\n",
    "    list(lc['err'][:start])+list(lc['err'][stop:])\n",
    "\n",
    "    # call the model  with a chosen kernel instance \n",
    "gp = celerite.GP(kernel, mean=np.mean(y))\n",
    "gp.compute(t, yerr)\n",
    "\n",
    "initial_params = gp.get_parameter_vector()\n",
    "\n",
    "sigma_bounds = [0.001, 1.0]\n",
    "tau_bounds = [1,10000]\n",
    "\n",
    "\n",
    "use_bounds = True\n",
    "prior = 'new'\n",
    "#for use_bounds, prior in product([True], ['flat', 'exp', 'new']):    \n",
    "if use_bounds : # use some custom boundaries \n",
    "    logc_bounds= (np.log(1/max(tau_bounds)), np.log(1/min(tau_bounds)) )\n",
    "    loga_bounds = (2*np.log(min(sigma_bounds)), 2*np.log(max(sigma_bounds)))\n",
    "    bounds = [loga_bounds, logc_bounds]\n",
    "else : # use the built-in boundaries (-inf : +inf )\n",
    "    bounds = gp.get_parameter_bounds()\n",
    "\n",
    "if prior is 'flat' : \n",
    "    def neg_log_like(params, y, gp):\n",
    "        gp.set_parameter_vector(params)\n",
    "        return -gp.log_likelihood(y)\n",
    "\n",
    "if prior is 'exp' :\n",
    "    def neg_log_like(params, y, gp):\n",
    "        gp.set_parameter_vector(params)\n",
    "        log_a = params[0]\n",
    "        log_c = params[1]\n",
    "        #log_sigma = log_a / 2.0 \n",
    "        #log_tau = - log_c\n",
    "        return -gp.log_likelihood(y)  -0.5* (log_c - log_a - np.log(2))\n",
    "\n",
    "if prior is 'new' : \n",
    "    def neg_log_like(params,y,gp):\n",
    "        gp.set_parameter_vector(params)\n",
    "        log_a = params[0]\n",
    "        log_c = params[1]\n",
    "        log_sigma = log_a / 2.0 \n",
    "        log_tau = - log_c\n",
    "        sigma = np.exp(log_sigma)\n",
    "        tau  = np.exp(log_tau)\n",
    "        return -gp.log_likelihood(y) - np.log(1.0/sigma + 1.0/tau)\n",
    "\n",
    "# do the scipy optimize to find the maximum likelihood estimator \n",
    "# for hyperparameters.... \n",
    "#print('Using %s prior'%prior)\n",
    "r = minimize(neg_log_like, initial_params, \n",
    "             method=\"L-BFGS-B\", bounds=bounds, args=(y, gp))\n",
    "gp.set_parameter_vector(r.x)\n",
    "\n",
    "# retrieve the best-fit parameters \n",
    "res = gp.get_parameter_dict()\n",
    "sigma_fit = np.exp(res['kernel:log_a']/2)\n",
    "tau_fit = 1.0 / np.exp(res['kernel:log_c'])\n",
    "\n",
    "# predict the (Gaussian) conditional (on the observed data) \n",
    "# distribution for new observations, to get the \n",
    "# estimate for standard deviation \n",
    "\n",
    "# where should we evaluate prediction ? \n",
    "# a) best at the same points at which we are providing hte \n",
    "# simulated dataset ... \n",
    "#  x = t\n",
    "\n",
    "# b) at much denser sampling, so that we'll see that \n",
    "# the prediction becomes less certain when there is no\n",
    "# data ... (note region around 1000...)\n",
    "x = np.linspace(0, 2000, 5000) # t\n",
    "pred_mean, pred_var = gp.predict(y, x, return_var=True)\n",
    "pred_std = np.sqrt(pred_var)\n",
    "\n",
    "# plot the prediction vs the observations.... \n",
    "color = \"#ff7f0e\"\n",
    "#plt.plot(true_t, true_y, \"k\", lw=1.5, alpha=0.3)\n",
    "plt.errorbar(t, y, yerr=yerr, fmt=\".k\", capsize=0)\n",
    "plt.plot(x, pred_mean, color=color)\n",
    "plt.fill_between(x, pred_mean+pred_std, pred_mean-pred_std, color=color, alpha=0.3,\n",
    "                 edgecolor=\"none\")\n",
    "plt.xlabel(\"time\")\n",
    "plt.ylabel(\"flux\")\n",
    "plt.savefig('DRW_missing_data_celerite_fit.png', bbox_inches='tight')\n"
   ]
  },
  {
   "cell_type": "markdown",
   "metadata": {},
   "source": [
    "### Calculating the errors on the MLE <a id='error_mle'></a>"
   ]
  },
  {
   "cell_type": "markdown",
   "metadata": {},
   "source": [
    "[go to top](#toc)"
   ]
  },
  {
   "cell_type": "code",
   "execution_count": 142,
   "metadata": {
    "collapsed": false
   },
   "outputs": [
    {
     "name": "stdout",
     "output_type": "stream",
     "text": [
      "[-3.01711956 -4.78624275]\n"
     ]
    }
   ],
   "source": [
    "# To find the errors on the MLE sigma, tau, \n",
    "# we take the objective function - the neg_log_like , and : \n",
    "# 1) calculate the Hessian matrix   H\n",
    "# 2) calculate the expectation at the minimum returned by the optimizer E[H]\n",
    "# 3) take the inverse of the Information matrix  ( I = -E[H] ) to get variance \n",
    "# 4) take the square root of variance to get standard deviation \n",
    "\n",
    "# In the calculation below I follow loosely \n",
    "# http://rlhick.people.wm.edu/posts/estimating-custom-mle.html\n",
    "import numdifftools as nd\n",
    "\n",
    "def Wrap_neg_log_like(theta) : \n",
    "    return neg_log_like(theta, y, gp)\n",
    "\n",
    "Hfun = nd.Hessian(Wrap_neg_log_like, full_output=True)\n",
    "hessian_ndt, info = Hfun(r['x'])\n",
    "\n",
    "# standard deviation is the square of variance\n",
    "# note  : this error is the error on the \n",
    "# MLE of the log_c , log_a \n",
    "se = np.sqrt(np.diag(np.linalg.inv(hessian_ndt)))\n",
    "\n",
    "# Note: \n",
    "#parameters : r['x']\n",
    "#std err : se   ( error on  log_a,  log_c ... )\n",
    "\n",
    "print(r['x'])\n",
    "\n",
    "# error from hessian on log_a, log_c\n",
    "s_log_a = se[0]\n",
    "s_log_c = se[1]\n",
    "\n",
    "# these are natural logs\n",
    "log_a = res['kernel:log_a']\n",
    "log_c = res['kernel:log_c']\n",
    "\n",
    "# convert to error on a, c  \n",
    "s_a = s_log_a * np.exp(log_a)\n",
    "s_c = s_log_c * np.exp(log_c)\n",
    "\n",
    "# now a = sigma^2 ,  c = tau^{-1}\n",
    "# convert to error on sigma, tau \n",
    "\n",
    "s_sigma = s_a / (2 * sigma_fit)\n",
    "s_tau = s_c * tau_fit*tau_fit\n",
    "\n",
    "\n"
   ]
  },
  {
   "cell_type": "code",
   "execution_count": 149,
   "metadata": {
    "collapsed": false
   },
   "outputs": [],
   "source": []
  },
  {
   "cell_type": "markdown",
   "metadata": {},
   "source": [
    "# Compare Celerite to Chelsea <a id='compare'></a>"
   ]
  },
  {
   "cell_type": "markdown",
   "metadata": {},
   "source": [
    "[go to top](#toc)"
   ]
  },
  {
   "cell_type": "markdown",
   "metadata": {},
   "source": [
    "\"I have attached the fits - the first four columns are:\n",
    "\n",
    "1. The light curve filename\n",
    "2. chi^2 of fit\n",
    "3. log(tau) (in days)\n",
    "4. log(sigma-hat) (in mag/sqrt(year))\n",
    "\n",
    "The fit parameters are similar to your input, with: \n",
    "\n",
    "$<\\tau>$ = 98.5 days \n",
    "\n",
    "$<\\sigma> = < SF_{\\infty} / \\sqrt{2} > = 0.2 $ mag\n",
    "\n",
    "\n",
    "The tau is more biased than sigma, since sigma-hat is well-constrained/not biased, while sigma goes as sqrt(tau).\n",
    "\n",
    "By the way, the last column list the number of acceptable data points that went into the fit, and sometimes it is <400 because it rejects duplicate MJD values. \n",
    "\""
   ]
  },
  {
   "cell_type": "markdown",
   "metadata": {},
   "source": [
    "### Plot Celerite and Chelsea fit results <a id='plotting'></a>"
   ]
  },
  {
   "cell_type": "markdown",
   "metadata": {},
   "source": [
    "[go to top](#toc)"
   ]
  },
  {
   "cell_type": "code",
   "execution_count": 74,
   "metadata": {
    "collapsed": false
   },
   "outputs": [
    {
     "name": "stdout",
     "output_type": "stream",
     "text": [
      "Using Celerite results from /Users/chris/GradResearch/DRW_Celerite/data_products/Fig_Celerite_ZI_LC_fits/2017-11-08/ZI_fits_results_11-07-17.npy\n"
     ]
    },
    {
     "data": {
      "image/png": "[encoded data removed]",
      "text/plain": [
       "<matplotlib.figure.Figure at 0x11c24c588>"
      ]
     },
     "metadata": {},
     "output_type": "display_data"
    }
   ],
   "source": [
    "import matplotlib.lines as mlines\n",
    "%matplotlib inline\n",
    "# plot histograms : marginalize along either dimension ... \n",
    "\n",
    "fig ,ax  = plt.subplots(2,1,figsize=(8,10))\n",
    "\n",
    "# two panels  : tau and sigma \n",
    "sigma_in = 0.2\n",
    "tau_in = 100 \n",
    "\n",
    "length = 20 \n",
    "i = 0 \n",
    "x0 = [0.2,0.62]\n",
    "\n",
    "x_max = 2  # maximum sigmafit / sigmain ratio\n",
    "y_max  = 3 # maximum taufit / tauin ratio \n",
    "\n",
    "# Grab Chelsea' results ...\n",
    "fits = Table.read('../data_products/Fig_Celerite_ZI_LC_fits/'+'fits.dat', \n",
    "                  format='ascii')\n",
    "tau_fit = np.power(10,fits['col3'].data)\n",
    "sigma_hat = np.power(10, fits['col4'].data)\n",
    "sigma_fit = sigma_hat / np.sqrt(2 / (tau_fit/365.0)) \n",
    "# to convert to mag / sqrt(years)...\n",
    "\n",
    "# Read the results from Celerite ...\n",
    "#outDir = '../data_products/Fig_Celerite_ZI_LC_fits/2017-11-07/'\n",
    "fname = 'ZI_fits_results_11-07-17.npy'\n",
    "results = np.load(outDir+fname).item()\n",
    "print('Using Celerite results from %s'%(outDir+fname))\n",
    "\n",
    "# need to store lines for axis legends in an object \n",
    "ax_legend_handles = {0:[], 1:[]}\n",
    "\n",
    "# line settings \n",
    "color_dic = {}\n",
    "ls_dic = {}\n",
    "lw_dic = {}\n",
    "data = ['Chelsea', 'flat', 'Jeff1', 'Jeff2', 'p1', 'p2']\n",
    "colors = ['indianred', 'chocolate', 'y', 'green', 'lightskyblue','darkslateblue']\n",
    "linestyles = ['solid','dotted','dashed','solid','dashed','dotted']\n",
    "linewidths  = [3,3,2,1,2,3]\n",
    "for i in range(len(data)):\n",
    "    color_dic[data[i]] = colors[i]\n",
    "    ls_dic[data[i]] = linestyles[i] \n",
    "    lw_dic[data[i]]= linewidths[i]\n",
    "\n",
    "plot_quantities = {'tau':{}, 'sigma':{}}\n",
    "\n",
    "for prior in priors : \n",
    "    plot_quantities['tau'][prior] = results[prior]['tau_fit'] / tau_in\n",
    "    plot_quantities['sigma'][prior] = results[prior]['sigma_fit'] / sigma_in\n",
    "plot_quantities['sigma']['Chelsea'] =  sigma_fit / sigma_in\n",
    "plot_quantities['tau']['Chelsea'] =  tau_fit / tau_in\n",
    "\n",
    "for source in ['Chelsea', 'flat', 'Jeff1', 'Jeff2'] :  #  'p1', 'p2']: # \n",
    "    x = plot_quantities['sigma'][source]\n",
    "    x = x[x<x_max]\n",
    "    ax[0].hist(x, histtype='step', lw=lw_dic[source], \n",
    "              ls=ls_dic[source], bins=40, color=color_dic[source],\n",
    "              normed=True)\n",
    "    rms  = np.sqrt(np.mean(np.square(x)))\n",
    "    bias = np.mean(x)\n",
    "    line = mlines.Line2D([], [], color=color_dic[source], \n",
    "                         lw=lw_dic[source],  ls=ls_dic[source],\n",
    "                         label=str(rms)[:5]+', '+str(bias)[:5]+' '+source)\n",
    "    ax_legend_handles[0].append(line)\n",
    "    \n",
    "    y = plot_quantities['tau'][source]\n",
    "    y = y[y<y_max]\n",
    "    ax[1].hist(y,  histtype='step', color=color_dic[source], \n",
    "               lw=lw_dic[source],  ls=ls_dic[source], bins=40, \n",
    "               normed=True)\n",
    "    rms  = np.sqrt(np.mean(np.square(y)))\n",
    "    bias = np.mean(y)\n",
    "    line = mlines.Line2D([], [], color=color_dic[source], \n",
    "                         lw=lw_dic[source],  ls=ls_dic[source],\n",
    "                         label=str(rms)[:5]+', '+str(bias)[:5]+' '+source)\n",
    "    ax_legend_handles[1].append(line)\n",
    "    \n",
    "\n",
    "ax[0].set_xlabel(r'$\\sigma_{fit}\\,/ \\,\\sigma_{in}$')\n",
    "ax[1].set_xlabel(r'$\\tau_{fit} \\,/\\, \\tau_{in}$')\n",
    "\n",
    "for i in [0,1]:\n",
    "    ax[i].legend(loc='upper left', handles = ax_legend_handles[i], frameon=False,\n",
    "                bbox_to_anchor=(0.51, 0.9), fontsize=15)\n",
    "    ax[i].axvline(1, lw=4, ls='--', c='red', dashes=(5,5))\n",
    "    ax[i].set_ylabel('normed counts')\n",
    "    ax[i].text(0.65, 0.91, 'rms:   bias:  source: ',\n",
    "               transform=ax[i].transAxes, fontsize=15)\n",
    "\n",
    "\n",
    "    \n",
    "fig.subplots_adjust(hspace=0.25)\n",
    "#fig.suptitle('N = '+str(len(t))+', length = '+str(length)+  r'$ \\tau_{in}$,'+' '\\\n",
    "#                 +str(len(x))+' fits' + '\\n' \\\n",
    "#                 + 'err='+str(yerr[0])+' [mag], '+b, fontsize=20)\n",
    "plt.savefig(outDir + 'sigma_tau_ratios_chelsea_celerite1.png', bbox_inches='tight')\n",
    "# in each panel , plot histogram of both "
   ]
  },
  {
   "cell_type": "markdown",
   "metadata": {},
   "source": []
  },
  {
   "cell_type": "markdown",
   "metadata": {},
   "source": [
    "## Save combined Celerite and Chelsea results <a id='save'></a>"
   ]
  },
  {
   "cell_type": "markdown",
   "metadata": {},
   "source": [
    "[go to top](#toc)"
   ]
  },
  {
   "cell_type": "code",
   "execution_count": 81,
   "metadata": {
    "collapsed": false
   },
   "outputs": [
    {
     "name": "stdout",
     "output_type": "stream",
     "text": [
      "Combined results saved as /Users/chris/GradResearch/DRW_Celerite/data_products/Fig_Celerite_ZI_LC_fits/2017-11-08/celerite_chelsea_fit_results.txt \n"
     ]
    },
    {
     "name": "stderr",
     "output_type": "stream",
     "text": [
      "WARNING: AstropyDeprecationWarning: /Users/chris/GradResearch/DRW_Celerite/data_products/Fig_Celerite_ZI_LC_fits/2017-11-08/celerite_chelsea_fit_results.txt already exists. Automatically overwriting ASCII files is deprecated. Use the argument 'overwrite=True' in the future. [astropy.io.ascii.ui]\n"
     ]
    }
   ],
   "source": [
    "# Make an AstroPy table from Celerite fit results \n",
    "celerite_fits = Table()\n",
    "celerite_fits['name'] = files\n",
    "for prior in priors : \n",
    "    for key in results[prior].keys():\n",
    "        colname = prior + '-'+key\n",
    "        celerite_fits[colname] = results[prior][key]\n",
    "        \n",
    "# Make an AstroPy table from Chelsea fit results        \n",
    "fits = Table.read(outDir[:-11]+ 'fits.dat', format='ascii')\n",
    "chelsea_fits = Table()\n",
    "chelsea_fits['name'] = fits['col1']\n",
    "chelsea_fits['Chelsea-tau'] = np.power(10,fits['col3'].data)\n",
    "sigma_hat = np.power(10, fits['col4'].data)\n",
    "chelsea_fits['Chelsea_sigma']  = sigma_hat / np.sqrt(2 / (tau_fit/365.0))\n",
    "#  to convert to mag / sqrt(years)...\n",
    "\n",
    "# merge on name \n",
    "from astropy.table import join\n",
    "combined = join(celerite_fits, chelsea_fits)\n",
    "\n",
    "# save the result ...\n",
    "fname = 'celerite_chelsea_fit_results.txt'\n",
    "combined.write(outDir + fname, format='ascii')\n",
    "print('Combined results saved as %s '%(outDir+fname))"
   ]
  },
  {
   "cell_type": "markdown",
   "metadata": {},
   "source": [
    "\"I have attached the fits - the first four columns are:\n",
    "\n",
    "1. The light curve filename\n",
    "2. $\\chi^2$ of fit\n",
    "3. log(tau) (in days)\n",
    "4. log(sigma-hat) (in mag/sqrt(year))\n",
    "\n",
    "The fit parameters are similar to your input, with: \n",
    "\n",
    "$<\\tau>$ = 98.5 days \n",
    "\n",
    "$<\\sigma> = < SF_{\\infty} / \\sqrt{2} > = 0.2 $ mag\n",
    "\n",
    "\n",
    "The tau is more biased than sigma, since sigma-hat is well-constrained/not biased, while sigma goes as sqrt(tau).\n",
    "\n",
    "By the way, the last column list the number of acceptable data points that went into the fit, and sometimes it is <400 because it rejects duplicate MJD values. \n",
    "\""
   ]
  },
  {
   "cell_type": "code",
   "execution_count": 83,
   "metadata": {
    "collapsed": false
   },
   "outputs": [
    {
     "data": {
      "text/html": [
       "&lt;Table length=1000&gt;\n",
       "<table id=\"table4806054576\" class=\"table-striped table-bordered table-condensed\">\n",
       "<thead><tr><th>col1</th><th>col2</th><th>col3</th><th>col4</th><th>col5</th><th>col6</th><th>col7</th><th>col8</th><th>col9</th><th>col10</th><th>col11</th><th>col12</th><th>col13</th><th>col14</th></tr></thead>\n",
       "<thead><tr><th>str28</th><th>float64</th><th>float64</th><th>float64</th><th>float64</th><th>float64</th><th>float64</th><th>float64</th><th>int64</th><th>float64</th><th>float64</th><th>float64</th><th>float64</th><th>int64</th></tr></thead>\n",
       "<tr><td>DRWtestCeleriteZI_LC1000.dat</td><td>368.747</td><td>1.90068</td><td>-0.266215</td><td>1.73839</td><td>2.0966</td><td>-0.307763</td><td>-0.259736</td><td>0</td><td>1031.24</td><td>495.391</td><td>1025.94</td><td>0.017332</td><td>400</td></tr>\n",
       "<tr><td>DRWtestCeleriteZI_LC100.dat</td><td>362.197</td><td>1.93999</td><td>-0.271289</td><td>1.79161</td><td>2.29819</td><td>-0.329781</td><td>-0.263025</td><td>0</td><td>1017.31</td><td>500.395</td><td>1012.78</td><td>0.004773</td><td>400</td></tr>\n",
       "<tr><td>DRWtestCeleriteZI_LC101.dat</td><td>398.317</td><td>1.91188</td><td>-0.248677</td><td>1.77127</td><td>2.15685</td><td>-0.292273</td><td>-0.25764</td><td>0</td><td>1014.21</td><td>486.914</td><td>1008.99</td><td>0.037245</td><td>400</td></tr>\n",
       "<tr><td>DRWtestCeleriteZI_LC102.dat</td><td>378.353</td><td>1.93236</td><td>-0.260899</td><td>1.77617</td><td>2.17711</td><td>-0.295594</td><td>-0.258547</td><td>0</td><td>1019.21</td><td>483.928</td><td>1014.68</td><td>-0.002017</td><td>400</td></tr>\n",
       "<tr><td>DRWtestCeleriteZI_LC103.dat</td><td>395.105</td><td>2.1919</td><td>-0.24954</td><td>2.07416</td><td>3.71531</td><td>-0.292341</td><td>-0.257756</td><td>0</td><td>1005.21</td><td>375.075</td><td>1002.95</td><td>-0.046475</td><td>399</td></tr>\n",
       "<tr><td>DRWtestCeleriteZI_LC104.dat</td><td>381.574</td><td>2.05436</td><td>-0.258808</td><td>1.9135</td><td>2.83782</td><td>-0.294628</td><td>-0.258357</td><td>0</td><td>1006.37</td><td>436.911</td><td>1003.54</td><td>0.039266</td><td>399</td></tr>\n",
       "<tr><td>DRWtestCeleriteZI_LC105.dat</td><td>404.585</td><td>1.92863</td><td>-0.246094</td><td>1.80173</td><td>2.2219</td><td>-0.292129</td><td>-0.257435</td><td>0</td><td>1005.55</td><td>487.512</td><td>1000.89</td><td>-0.036205</td><td>400</td></tr>\n",
       "<tr><td>DRWtestCeleriteZI_LC106.dat</td><td>416.774</td><td>1.9321</td><td>-0.237336</td><td>1.8148</td><td>2.26893</td><td>-0.291593</td><td>-0.255273</td><td>0</td><td>993.984</td><td>452.713</td><td>989.239</td><td>0.102741</td><td>400</td></tr>\n",
       "<tr><td>DRWtestCeleriteZI_LC107.dat</td><td>403.311</td><td>1.9212</td><td>-0.246579</td><td>1.78895</td><td>2.18538</td><td>-0.29215</td><td>-0.257471</td><td>0</td><td>1021.42</td><td>464.704</td><td>1016.28</td><td>-0.038847</td><td>400</td></tr>\n",
       "<tr><td>DRWtestCeleriteZI_LC108.dat</td><td>436.818</td><td>1.89681</td><td>-0.229078</td><td>1.76219</td><td>2.19312</td><td>-0.289299</td><td>-0.230535</td><td>0</td><td>983.448</td><td>493.154</td><td>977.756</td><td>-0.039091</td><td>400</td></tr>\n",
       "<tr><td>...</td><td>...</td><td>...</td><td>...</td><td>...</td><td>...</td><td>...</td><td>...</td><td>...</td><td>...</td><td>...</td><td>...</td><td>...</td><td>...</td></tr>\n",
       "<tr><td>DRWtestCeleriteZI_LC992.dat</td><td>373.896</td><td>1.69869</td><td>-0.262045</td><td>1.54247</td><td>1.78423</td><td>-0.296431</td><td>-0.258695</td><td>0</td><td>1025.58</td><td>579.199</td><td>1017.22</td><td>0.142063</td><td>399</td></tr>\n",
       "<tr><td>DRWtestCeleriteZI_LC993.dat</td><td>403.584</td><td>1.94896</td><td>-0.24393</td><td>1.82713</td><td>2.29348</td><td>-0.292029</td><td>-0.257204</td><td>0</td><td>1000.7</td><td>451.439</td><td>995.466</td><td>-0.013045</td><td>399</td></tr>\n",
       "<tr><td>DRWtestCeleriteZI_LC994.dat</td><td>364.607</td><td>2.1798</td><td>-0.220111</td><td>2.04237</td><td>3.55152</td><td>-0.276635</td><td>-0.211986</td><td>0</td><td>983.259</td><td>342.367</td><td>980.422</td><td>-0.012941</td><td>400</td></tr>\n",
       "<tr><td>DRWtestCeleriteZI_LC995.dat</td><td>402.107</td><td>1.91043</td><td>-0.247058</td><td>1.77317</td><td>2.16975</td><td>-0.292179</td><td>-0.257508</td><td>0</td><td>1022.11</td><td>476.965</td><td>-1e+32</td><td>-0.04693</td><td>400</td></tr>\n",
       "<tr><td>DRWtestCeleriteZI_LC996.dat</td><td>378.274</td><td>2.02246</td><td>-0.260456</td><td>1.86886</td><td>2.7588</td><td>-0.295778</td><td>-0.258582</td><td>0</td><td>1027.02</td><td>461.911</td><td>1024.07</td><td>0.002571</td><td>399</td></tr>\n",
       "<tr><td>DRWtestCeleriteZI_LC997.dat</td><td>393.489</td><td>2.06101</td><td>-0.249726</td><td>1.93199</td><td>2.81225</td><td>-0.292369</td><td>-0.257755</td><td>0</td><td>1007.89</td><td>416.984</td><td>1004.21</td><td>0.004476</td><td>399</td></tr>\n",
       "<tr><td>DRWtestCeleriteZI_LC998.dat</td><td>379.999</td><td>2.17033</td><td>-0.259737</td><td>2.03358</td><td>3.52403</td><td>-0.294921</td><td>-0.258423</td><td>0</td><td>1009.97</td><td>378.244</td><td>1006.77</td><td>0.002856</td><td>399</td></tr>\n",
       "<tr><td>DRWtestCeleriteZI_LC999.dat</td><td>391.412</td><td>2.00394</td><td>-0.252271</td><td>1.85859</td><td>2.42082</td><td>-0.292632</td><td>-0.257871</td><td>0</td><td>1028.14</td><td>444.843</td><td>1023.43</td><td>0.119104</td><td>400</td></tr>\n",
       "<tr><td>DRWtestCeleriteZI_LC99.dat</td><td>393.201</td><td>1.87261</td><td>-0.249868</td><td>1.73366</td><td>2.08573</td><td>-0.292395</td><td>-0.257713</td><td>0</td><td>1021.35</td><td>490.813</td><td>1015.73</td><td>-0.06697</td><td>399</td></tr>\n",
       "<tr><td>DRWtestCeleriteZI_LC9.dat</td><td>395.094</td><td>1.92507</td><td>-0.250945</td><td>1.78453</td><td>2.17803</td><td>-0.292469</td><td>-0.257785</td><td>0</td><td>1013.14</td><td>468.757</td><td>1008.03</td><td>0.034355</td><td>400</td></tr>\n",
       "</table>"
      ],
      "text/plain": [
       "<Table length=1000>\n",
       "            col1               col2    col3  ...  col12    col13   col14\n",
       "           str28             float64 float64 ... float64  float64  int64\n",
       "---------------------------- ------- ------- ... ------- --------- -----\n",
       "DRWtestCeleriteZI_LC1000.dat 368.747 1.90068 ... 1025.94  0.017332   400\n",
       " DRWtestCeleriteZI_LC100.dat 362.197 1.93999 ... 1012.78  0.004773   400\n",
       " DRWtestCeleriteZI_LC101.dat 398.317 1.91188 ... 1008.99  0.037245   400\n",
       " DRWtestCeleriteZI_LC102.dat 378.353 1.93236 ... 1014.68 -0.002017   400\n",
       " DRWtestCeleriteZI_LC103.dat 395.105  2.1919 ... 1002.95 -0.046475   399\n",
       " DRWtestCeleriteZI_LC104.dat 381.574 2.05436 ... 1003.54  0.039266   399\n",
       " DRWtestCeleriteZI_LC105.dat 404.585 1.92863 ... 1000.89 -0.036205   400\n",
       " DRWtestCeleriteZI_LC106.dat 416.774  1.9321 ... 989.239  0.102741   400\n",
       " DRWtestCeleriteZI_LC107.dat 403.311  1.9212 ... 1016.28 -0.038847   400\n",
       " DRWtestCeleriteZI_LC108.dat 436.818 1.89681 ... 977.756 -0.039091   400\n",
       "                         ...     ...     ... ...     ...       ...   ...\n",
       " DRWtestCeleriteZI_LC992.dat 373.896 1.69869 ... 1017.22  0.142063   399\n",
       " DRWtestCeleriteZI_LC993.dat 403.584 1.94896 ... 995.466 -0.013045   399\n",
       " DRWtestCeleriteZI_LC994.dat 364.607  2.1798 ... 980.422 -0.012941   400\n",
       " DRWtestCeleriteZI_LC995.dat 402.107 1.91043 ...  -1e+32  -0.04693   400\n",
       " DRWtestCeleriteZI_LC996.dat 378.274 2.02246 ... 1024.07  0.002571   399\n",
       " DRWtestCeleriteZI_LC997.dat 393.489 2.06101 ... 1004.21  0.004476   399\n",
       " DRWtestCeleriteZI_LC998.dat 379.999 2.17033 ... 1006.77  0.002856   399\n",
       " DRWtestCeleriteZI_LC999.dat 391.412 2.00394 ... 1023.43  0.119104   400\n",
       "  DRWtestCeleriteZI_LC99.dat 393.201 1.87261 ... 1015.73  -0.06697   399\n",
       "   DRWtestCeleriteZI_LC9.dat 395.094 1.92507 ... 1008.03  0.034355   400"
      ]
     },
     "execution_count": 83,
     "metadata": {},
     "output_type": "execute_result"
    }
   ],
   "source": [
    "fits"
   ]
  },
  {
   "cell_type": "code",
   "execution_count": null,
   "metadata": {
    "collapsed": true
   },
   "outputs": [],
   "source": []
  }
 ],
 "metadata": {
  "kernelspec": {
   "display_name": "Python 3",
   "language": "python",
   "name": "python3"
  },
  "language_info": {
   "codemirror_mode": {
    "name": "ipython",
    "version": 3
   },
   "file_extension": ".py",
   "mimetype": "text/x-python",
   "name": "python",
   "nbconvert_exporter": "python",
   "pygments_lexer": "ipython3",
   "version": "3.6.0"
  }
 },
 "nbformat": 4,
 "nbformat_minor": 2
}
